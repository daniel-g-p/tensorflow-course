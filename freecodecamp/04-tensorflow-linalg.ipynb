{
 "cells": [
  {
   "cell_type": "markdown",
   "metadata": {},
   "source": [
    "# 4. Tensorflow Linear Algebra\n"
   ]
  },
  {
   "cell_type": "code",
   "execution_count": 2,
   "metadata": {},
   "outputs": [],
   "source": [
    "import numpy as np\n",
    "\n",
    "import tensorflow as tf"
   ]
  },
  {
   "cell_type": "code",
   "execution_count": 3,
   "metadata": {},
   "outputs": [],
   "source": [
    "np.random.seed(42)\n",
    "tf.random.set_seed(42)"
   ]
  },
  {
   "cell_type": "code",
   "execution_count": 4,
   "metadata": {},
   "outputs": [
    {
     "name": "stdout",
     "output_type": "stream",
     "text": [
      "tf.Tensor(\n",
      "[[[4 5 3 5]\n",
      "  [5 2 3 3]\n",
      "  [3 5 4 3]]\n",
      "\n",
      " [[5 2 4 2]\n",
      "  [4 5 1 4]\n",
      "  [2 5 4 1]]], shape=(2, 3, 4), dtype=int32)\n",
      "tf.Tensor(\n",
      "[[[1 3 3]\n",
      "  [2 4 4]\n",
      "  [3 4 4]\n",
      "  [1 3 5]]\n",
      "\n",
      " [[3 5 1]\n",
      "  [2 4 1]\n",
      "  [4 2 2]\n",
      "  [1 2 5]]], shape=(2, 4, 3), dtype=int32)\n"
     ]
    }
   ],
   "source": [
    "tensor_1 = tf.constant(np.random.randint(1, 6, (2, 3, 4)), dtype=tf.dtypes.int32)\n",
    "tensor_2 = tf.constant(np.random.randint(1, 6, (2, 4, 3)), dtype=tf.dtypes.int32)\n",
    "\n",
    "print(tensor_1)\n",
    "print(tensor_2)"
   ]
  },
  {
   "cell_type": "markdown",
   "metadata": {},
   "source": [
    "## transpose()\n"
   ]
  },
  {
   "cell_type": "code",
   "execution_count": 5,
   "metadata": {},
   "outputs": [
    {
     "name": "stdout",
     "output_type": "stream",
     "text": [
      "tf.Tensor(\n",
      "[[[4 5]\n",
      "  [5 4]\n",
      "  [3 2]]\n",
      "\n",
      " [[5 2]\n",
      "  [2 5]\n",
      "  [5 5]]\n",
      "\n",
      " [[3 4]\n",
      "  [3 1]\n",
      "  [4 4]]\n",
      "\n",
      " [[5 2]\n",
      "  [3 4]\n",
      "  [3 1]]], shape=(4, 3, 2), dtype=int32)\n",
      "tf.Tensor(\n",
      "[[[1 3]\n",
      "  [2 2]\n",
      "  [3 4]\n",
      "  [1 1]]\n",
      "\n",
      " [[3 5]\n",
      "  [4 4]\n",
      "  [4 2]\n",
      "  [3 2]]\n",
      "\n",
      " [[3 1]\n",
      "  [4 1]\n",
      "  [4 2]\n",
      "  [5 5]]], shape=(3, 4, 2), dtype=int32)\n"
     ]
    }
   ],
   "source": [
    "tensor_1_transpose = tf.transpose(tensor_1)\n",
    "tensor_2_transpose = tf.transpose(tensor_2)\n",
    "\n",
    "print(tensor_1_transpose)\n",
    "print(tensor_2_transpose)"
   ]
  },
  {
   "cell_type": "markdown",
   "metadata": {},
   "source": [
    "## matmul()\n"
   ]
  },
  {
   "cell_type": "code",
   "execution_count": 6,
   "metadata": {},
   "outputs": [
    {
     "name": "stdout",
     "output_type": "stream",
     "text": [
      "tf.Tensor(\n",
      "[[[28 59 69]\n",
      "  [21 44 50]\n",
      "  [28 54 60]]\n",
      "\n",
      " [[37 45 25]\n",
      "  [30 50 31]\n",
      "  [33 40 20]]], shape=(2, 3, 3), dtype=int32)\n"
     ]
    }
   ],
   "source": [
    "tensor_matmul = tf.linalg.matmul(tensor_1, tensor_2)\n",
    "\n",
    "print(tensor_matmul)"
   ]
  },
  {
   "cell_type": "markdown",
   "metadata": {},
   "source": [
    "## band_part()"
   ]
  },
  {
   "cell_type": "code",
   "execution_count": 7,
   "metadata": {},
   "outputs": [
    {
     "name": "stdout",
     "output_type": "stream",
     "text": [
      "tf.Tensor(\n",
      "[[2 4 4 4 4]\n",
      " [5 3 1 4 2]\n",
      " [4 2 2 4 5]\n",
      " [2 2 4 2 2]\n",
      " [4 4 1 5 5]], shape=(5, 5), dtype=int32)\n",
      "tf.Tensor(\n",
      "[[2 0 0 0 0]\n",
      " [5 3 0 0 0]\n",
      " [4 2 2 0 0]\n",
      " [2 2 4 2 0]\n",
      " [4 4 1 5 5]], shape=(5, 5), dtype=int32)\n",
      "tf.Tensor(\n",
      "[[2 4 4 4 4]\n",
      " [0 3 1 4 2]\n",
      " [0 0 2 4 5]\n",
      " [0 0 0 2 2]\n",
      " [0 0 0 0 5]], shape=(5, 5), dtype=int32)\n",
      "tf.Tensor(\n",
      "[[2 0 0 0 0]\n",
      " [0 3 0 0 0]\n",
      " [0 0 2 0 0]\n",
      " [0 0 0 2 0]\n",
      " [0 0 0 0 5]], shape=(5, 5), dtype=int32)\n"
     ]
    }
   ],
   "source": [
    "tensor_matrix = tf.constant(np.random.randint(1, 6, (5, 5)), dtype=tf.dtypes.int32)\n",
    "tensor_band_part_lower = tf.linalg.band_part(tensor_matrix, -1, 0)\n",
    "tensor_band_part_upper = tf.linalg.band_part(tensor_matrix, 0, -1)\n",
    "tensor_band_part_diagonal = tf.linalg.band_part(tensor_matrix, 0, 0)\n",
    "\n",
    "print(tensor_matrix)\n",
    "print(tensor_band_part_lower)\n",
    "print(tensor_band_part_upper)\n",
    "print(tensor_band_part_diagonal)"
   ]
  },
  {
   "cell_type": "markdown",
   "metadata": {},
   "source": [
    "## einsum()"
   ]
  },
  {
   "cell_type": "code",
   "execution_count": 8,
   "metadata": {},
   "outputs": [
    {
     "name": "stdout",
     "output_type": "stream",
     "text": [
      "tf.Tensor(\n",
      "[[2 3]\n",
      " [1 2]], shape=(2, 2), dtype=int32)\n",
      "tf.Tensor(\n",
      "[[1 1]\n",
      " [1 1]], shape=(2, 2), dtype=int32)\n",
      "tf.Tensor(\n",
      "[[[3 1]\n",
      "  [1 1]]\n",
      "\n",
      " [[3 1]\n",
      "  [1 3]]], shape=(2, 2, 2), dtype=int32)\n",
      "tf.Tensor(\n",
      "[[[3 3]\n",
      "  [1 3]]\n",
      "\n",
      " [[3 1]\n",
      "  [3 1]]], shape=(2, 2, 2), dtype=int32)\n"
     ]
    }
   ],
   "source": [
    "tensor_einsum_2d_1 = tf.constant(np.random.randint(1, 4, (2, 2)))\n",
    "tensor_einsum_2d_2 = tf.constant(np.random.randint(1, 4, (2, 2)))\n",
    "tensor_einsum_3d_1 = tf.constant(np.random.randint(1, 4, (2, 2, 2)))\n",
    "tensor_einsum_3d_2 = tf.constant(np.random.randint(1, 4, (2, 2, 2)))\n",
    "\n",
    "print(tensor_einsum_2d_1)\n",
    "print(tensor_einsum_2d_2)\n",
    "print(tensor_einsum_3d_1)\n",
    "print(tensor_einsum_3d_2)"
   ]
  },
  {
   "cell_type": "code",
   "execution_count": 9,
   "metadata": {},
   "outputs": [
    {
     "name": "stdout",
     "output_type": "stream",
     "text": [
      "tf.Tensor(\n",
      "[[5 5]\n",
      " [3 3]], shape=(2, 2), dtype=int32)\n",
      "tf.Tensor(\n",
      "[[2 3]\n",
      " [1 2]], shape=(2, 2), dtype=int32)\n"
     ]
    }
   ],
   "source": [
    "tensor_einsum_2d_matrix = tf.linalg.einsum(\n",
    "    \"ij,jk->ik\",\n",
    "    tensor_einsum_2d_1,\n",
    "    tensor_einsum_2d_2,\n",
    ")\n",
    "\n",
    "tensor_einsum_2d_elementwise = tf.linalg.einsum(\n",
    "    \"ij,ij->ij\",\n",
    "    tensor_einsum_2d_1,\n",
    "    tensor_einsum_2d_2,\n",
    ")\n",
    "\n",
    "print(tensor_einsum_2d_matrix)\n",
    "print(tensor_einsum_2d_elementwise)"
   ]
  },
  {
   "cell_type": "code",
   "execution_count": 10,
   "metadata": {},
   "outputs": [
    {
     "name": "stdout",
     "output_type": "stream",
     "text": [
      "tf.Tensor(\n",
      "[[[10 12]\n",
      "  [ 4  6]]\n",
      "\n",
      " [[12  4]\n",
      "  [12  4]]], shape=(2, 2, 2), dtype=int32)\n",
      "tf.Tensor(\n",
      "[[[9 3]\n",
      "  [1 3]]\n",
      "\n",
      " [[9 1]\n",
      "  [3 3]]], shape=(2, 2, 2), dtype=int32)\n"
     ]
    }
   ],
   "source": [
    "tensor_einsum_3d_matrix = tf.linalg.einsum(\n",
    "    \"bij,bjk->bik\",\n",
    "    tensor_einsum_3d_1,\n",
    "    tensor_einsum_3d_2,\n",
    ")\n",
    "\n",
    "tensor_einsum_3d_elementwise = tf.linalg.einsum(\n",
    "    \"bij,bij->bij\",\n",
    "    tensor_einsum_3d_1,\n",
    "    tensor_einsum_3d_2,\n",
    ")\n",
    "\n",
    "print(tensor_einsum_3d_matrix)\n",
    "print(tensor_einsum_3d_elementwise)"
   ]
  },
  {
   "cell_type": "code",
   "execution_count": 15,
   "metadata": {},
   "outputs": [
    {
     "name": "stdout",
     "output_type": "stream",
     "text": [
      "tf.Tensor(8, shape=(), dtype=int32)\n",
      "tf.Tensor(32, shape=(), dtype=int32)\n"
     ]
    }
   ],
   "source": [
    "tensor_einsum_2d_sum = tf.linalg.einsum(\n",
    "    \"ij,ij->\",\n",
    "    tensor_einsum_2d_1,\n",
    "    tensor_einsum_2d_2,\n",
    ")\n",
    "\n",
    "tensor_einsum_3d_sum = tf.linalg.einsum(\n",
    "    \"bij,bij->\",\n",
    "    tensor_einsum_3d_1,\n",
    "    tensor_einsum_3d_2,\n",
    ")\n",
    "\n",
    "print(tensor_einsum_2d_sum)\n",
    "print(tensor_einsum_3d_sum)"
   ]
  }
 ],
 "metadata": {
  "kernelspec": {
   "display_name": "env",
   "language": "python",
   "name": "python3"
  },
  "language_info": {
   "codemirror_mode": {
    "name": "ipython",
    "version": 3
   },
   "file_extension": ".py",
   "mimetype": "text/x-python",
   "name": "python",
   "nbconvert_exporter": "python",
   "pygments_lexer": "ipython3",
   "version": "3.11.4"
  },
  "orig_nbformat": 4
 },
 "nbformat": 4,
 "nbformat_minor": 2
}
