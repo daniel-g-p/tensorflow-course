{
 "cells": [
  {
   "cell_type": "markdown",
   "metadata": {},
   "source": [
    "# 3. Tensorflow Math"
   ]
  },
  {
   "cell_type": "code",
   "execution_count": 34,
   "metadata": {},
   "outputs": [],
   "source": [
    "import numpy as np\n",
    "\n",
    "import tensorflow as tf"
   ]
  },
  {
   "cell_type": "code",
   "execution_count": 35,
   "metadata": {},
   "outputs": [],
   "source": [
    "tf.random.set_seed(42)"
   ]
  },
  {
   "cell_type": "code",
   "execution_count": 36,
   "metadata": {},
   "outputs": [
    {
     "name": "stdout",
     "output_type": "stream",
     "text": [
      "tf.Tensor(\n",
      "[[[ 0.3274685  -0.8426258   0.3194337  -1.4075519 ]\n",
      "  [-2.3880599  -1.0392479  -0.5573232   0.539707  ]\n",
      "  [ 1.6994323   0.28893656 -1.5066116  -0.26454744]]\n",
      "\n",
      " [[-0.59722406 -1.9171132  -0.62044144  0.8504023 ]\n",
      "  [-0.40604794 -3.0258412   0.9058464   0.29855987]\n",
      "  [-0.22561555 -0.7616443  -1.891714   -0.9384712 ]]], shape=(2, 3, 4), dtype=float32)\n",
      "tf.Tensor(\n",
      "[[[5. 5. 8. 2.]\n",
      "  [0. 7. 8. 8.]\n",
      "  [7. 7. 4. 6.]]\n",
      "\n",
      " [[5. 0. 1. 5.]\n",
      "  [7. 1. 6. 1.]\n",
      "  [8. 5. 2. 4.]]], shape=(2, 3, 4), dtype=float32)\n",
      "tf.Tensor(\n",
      "[[[3. 8. 6. 3.]\n",
      "  [8. 6. 2. 4.]\n",
      "  [2. 0. 2. 6.]]\n",
      "\n",
      " [[4. 7. 3. 8.]\n",
      "  [2. 1. 1. 2.]\n",
      "  [3. 6. 1. 2.]]], shape=(2, 3, 4), dtype=float32)\n"
     ]
    }
   ],
   "source": [
    "tensor_normal = tf.random.normal((2, 3, 4))\n",
    "tensor_1 = tf.constant(np.random.randint(0, 9, (2, 3, 4)), dtype=tf.dtypes.float32)\n",
    "tensor_2 = tf.constant(np.random.randint(0, 9, (2, 3, 4)), dtype=tf.dtypes.float32)\n",
    "\n",
    "print(tensor_normal)\n",
    "print(tensor_1)\n",
    "print(tensor_2)"
   ]
  },
  {
   "cell_type": "markdown",
   "metadata": {},
   "source": [
    "## abs()"
   ]
  },
  {
   "cell_type": "code",
   "execution_count": 37,
   "metadata": {},
   "outputs": [
    {
     "name": "stdout",
     "output_type": "stream",
     "text": [
      "tf.Tensor(\n",
      "[[[0.3274685  0.8426258  0.3194337  1.4075519 ]\n",
      "  [2.3880599  1.0392479  0.5573232  0.539707  ]\n",
      "  [1.6994323  0.28893656 1.5066116  0.26454744]]\n",
      "\n",
      " [[0.59722406 1.9171132  0.62044144 0.8504023 ]\n",
      "  [0.40604794 3.0258412  0.9058464  0.29855987]\n",
      "  [0.22561555 0.7616443  1.891714   0.9384712 ]]], shape=(2, 3, 4), dtype=float32)\n"
     ]
    }
   ],
   "source": [
    "tensor_abs = tf.math.abs(tensor_normal)\n",
    "\n",
    "print(tensor_abs)"
   ]
  },
  {
   "cell_type": "markdown",
   "metadata": {},
   "source": [
    "## add() / subtract() / multiply() / divide()"
   ]
  },
  {
   "cell_type": "code",
   "execution_count": 38,
   "metadata": {},
   "outputs": [
    {
     "name": "stdout",
     "output_type": "stream",
     "text": [
      "tf.Tensor(\n",
      "[[[ 8. 13. 14.  5.]\n",
      "  [ 8. 13. 10. 12.]\n",
      "  [ 9.  7.  6. 12.]]\n",
      "\n",
      " [[ 9.  7.  4. 13.]\n",
      "  [ 9.  2.  7.  3.]\n",
      "  [11. 11.  3.  6.]]], shape=(2, 3, 4), dtype=float32)\n",
      "tf.Tensor(\n",
      "[[[ 2. -3.  2. -1.]\n",
      "  [-8.  1.  6.  4.]\n",
      "  [ 5.  7.  2.  0.]]\n",
      "\n",
      " [[ 1. -7. -2. -3.]\n",
      "  [ 5.  0.  5. -1.]\n",
      "  [ 5. -1.  1.  2.]]], shape=(2, 3, 4), dtype=float32)\n",
      "tf.Tensor(\n",
      "[[[15. 40. 48.  6.]\n",
      "  [ 0. 42. 16. 32.]\n",
      "  [14.  0.  8. 36.]]\n",
      "\n",
      " [[20.  0.  3. 40.]\n",
      "  [14.  1.  6.  2.]\n",
      "  [24. 30.  2.  8.]]], shape=(2, 3, 4), dtype=float32)\n",
      "tf.Tensor(\n",
      "[[[1.6666666  0.625      1.3333334  0.6666667 ]\n",
      "  [0.         1.1666666  4.         2.        ]\n",
      "  [3.5               inf 2.         1.        ]]\n",
      "\n",
      " [[1.25       0.         0.33333334 0.625     ]\n",
      "  [3.5        1.         6.         0.5       ]\n",
      "  [2.6666667  0.8333333  2.         2.        ]]], shape=(2, 3, 4), dtype=float32)\n",
      "tf.Tensor(\n",
      "[[[1.25000e+02 3.90625e+05 2.62144e+05 8.00000e+00]\n",
      "  [0.00000e+00 1.17649e+05 6.40000e+01 4.09600e+03]\n",
      "  [4.90000e+01 1.00000e+00 1.60000e+01 4.66560e+04]]\n",
      "\n",
      " [[6.25000e+02 0.00000e+00 1.00000e+00 3.90625e+05]\n",
      "  [4.90000e+01 1.00000e+00 6.00000e+00 1.00000e+00]\n",
      "  [5.12000e+02 1.56250e+04 2.00000e+00 1.60000e+01]]], shape=(2, 3, 4), dtype=float32)\n"
     ]
    }
   ],
   "source": [
    "tensor_add = tf.math.add(tensor_1, tensor_2)\n",
    "tensor_subtract = tf.math.subtract(tensor_1, tensor_2)\n",
    "tensor_multiply = tf.math.multiply(tensor_1, tensor_2)\n",
    "tensor_divide = tf.math.divide(tensor_1, tensor_2)\n",
    "tensor_pow = tf.math.pow(tensor_1, tensor_2)\n",
    "\n",
    "print(tensor_add)\n",
    "print(tensor_subtract)\n",
    "print(tensor_multiply)\n",
    "print(tensor_divide)\n",
    "print(tensor_pow)"
   ]
  },
  {
   "cell_type": "markdown",
   "metadata": {},
   "source": [
    "## maximum() / minimum()"
   ]
  },
  {
   "cell_type": "code",
   "execution_count": 39,
   "metadata": {},
   "outputs": [
    {
     "name": "stdout",
     "output_type": "stream",
     "text": [
      "tf.Tensor(\n",
      "[[[5. 8. 8. 3.]\n",
      "  [8. 7. 8. 8.]\n",
      "  [7. 7. 4. 6.]]\n",
      "\n",
      " [[5. 7. 3. 8.]\n",
      "  [7. 1. 6. 2.]\n",
      "  [8. 6. 2. 4.]]], shape=(2, 3, 4), dtype=float32)\n",
      "tf.Tensor(\n",
      "[[[3. 5. 6. 2.]\n",
      "  [0. 6. 2. 4.]\n",
      "  [2. 0. 2. 6.]]\n",
      "\n",
      " [[4. 0. 1. 5.]\n",
      "  [2. 1. 1. 1.]\n",
      "  [3. 5. 1. 2.]]], shape=(2, 3, 4), dtype=float32)\n"
     ]
    }
   ],
   "source": [
    "tensor_maximum = tf.math.maximum(tensor_1, tensor_2)\n",
    "tensor_minimum = tf.math.minimum(tensor_1, tensor_2)\n",
    "\n",
    "print(tensor_maximum)\n",
    "print(tensor_minimum)"
   ]
  },
  {
   "cell_type": "markdown",
   "metadata": {},
   "source": [
    "## argmax() / argmin()"
   ]
  },
  {
   "cell_type": "code",
   "execution_count": 40,
   "metadata": {},
   "outputs": [
    {
     "name": "stdout",
     "output_type": "stream",
     "text": [
      "tf.Tensor(\n",
      "[[0 0 0 1]\n",
      " [1 0 0 0]\n",
      " [1 0 0 0]], shape=(3, 4), dtype=int64)\n",
      "tf.Tensor(\n",
      "[[2 1 0 1]\n",
      " [2 2 1 0]], shape=(2, 4), dtype=int64)\n",
      "tf.Tensor(\n",
      "[[2 2 0]\n",
      " [0 0 0]], shape=(2, 3), dtype=int64)\n",
      "tf.Tensor(\n",
      "[[0 1 1 0]\n",
      " [0 1 1 1]\n",
      " [0 1 1 1]], shape=(3, 4), dtype=int64)\n",
      "tf.Tensor(\n",
      "[[1 0 2 0]\n",
      " [0 0 0 1]], shape=(2, 4), dtype=int64)\n",
      "tf.Tensor(\n",
      "[[3 0 2]\n",
      " [1 1 2]], shape=(2, 3), dtype=int64)\n"
     ]
    }
   ],
   "source": [
    "tensor_argmax_axis0 = tf.math.argmax(tensor_1, axis=0)\n",
    "tensor_argmax_axis1 = tf.math.argmax(tensor_1, axis=1)\n",
    "tensor_argmax_axis2 = tf.math.argmax(tensor_1, axis=2)\n",
    "tensor_argmin_axis0 = tf.math.argmin(tensor_1, axis=0)\n",
    "tensor_argmin_axis1 = tf.math.argmin(tensor_1, axis=1)\n",
    "tensor_argmin_axis2 = tf.math.argmin(tensor_1, axis=2)\n",
    "\n",
    "print(tensor_argmax_axis0)\n",
    "print(tensor_argmax_axis1)\n",
    "print(tensor_argmax_axis2)\n",
    "print(tensor_argmin_axis0)\n",
    "print(tensor_argmin_axis1)\n",
    "print(tensor_argmin_axis2)"
   ]
  },
  {
   "cell_type": "markdown",
   "metadata": {},
   "source": [
    "## equal()"
   ]
  },
  {
   "cell_type": "code",
   "execution_count": 41,
   "metadata": {},
   "outputs": [
    {
     "name": "stdout",
     "output_type": "stream",
     "text": [
      "tf.Tensor(\n",
      "[[[False False False False]\n",
      "  [False False False False]\n",
      "  [False False False  True]]\n",
      "\n",
      " [[False False False False]\n",
      "  [False  True False False]\n",
      "  [False False False False]]], shape=(2, 3, 4), dtype=bool)\n"
     ]
    }
   ],
   "source": [
    "tensor_equal = tf.math.equal(tensor_1, tensor_2)\n",
    "\n",
    "print(tensor_equal)"
   ]
  },
  {
   "cell_type": "markdown",
   "metadata": {},
   "source": [
    "## reduce_sum()"
   ]
  },
  {
   "cell_type": "code",
   "execution_count": 42,
   "metadata": {},
   "outputs": [
    {
     "name": "stdout",
     "output_type": "stream",
     "text": [
      "tf.Tensor(\n",
      "[[10.  5.  9.  7.]\n",
      " [ 7.  8. 14.  9.]\n",
      " [15. 12.  6. 10.]], shape=(3, 4), dtype=float32)\n",
      "tf.Tensor(\n",
      "[[12. 19. 20. 16.]\n",
      " [20.  6.  9. 10.]], shape=(2, 4), dtype=float32)\n",
      "tf.Tensor(\n",
      "[[20. 23. 24.]\n",
      " [11. 15. 19.]], shape=(2, 3), dtype=float32)\n"
     ]
    }
   ],
   "source": [
    "tensor_reduce_sum_axis0 = tf.math.reduce_sum(tensor_1, axis=0, keepdims=False)\n",
    "tensor_reduce_sum_axis1 = tf.math.reduce_sum(tensor_1, axis=1, keepdims=False)\n",
    "tensor_reduce_sum_axis2 = tf.math.reduce_sum(tensor_1, axis=2, keepdims=False)\n",
    "\n",
    "print(tensor_reduce_sum_axis0)\n",
    "print(tensor_reduce_sum_axis1)\n",
    "print(tensor_reduce_sum_axis2)"
   ]
  },
  {
   "cell_type": "markdown",
   "metadata": {},
   "source": [
    "## reduce_mean()"
   ]
  },
  {
   "cell_type": "code",
   "execution_count": 43,
   "metadata": {},
   "outputs": [
    {
     "name": "stdout",
     "output_type": "stream",
     "text": [
      "tf.Tensor(\n",
      "[[5.  2.5 4.5 3.5]\n",
      " [3.5 4.  7.  4.5]\n",
      " [7.5 6.  3.  5. ]], shape=(3, 4), dtype=float32)\n",
      "tf.Tensor(\n",
      "[[4.        6.3333335 6.6666665 5.3333335]\n",
      " [6.6666665 2.        3.        3.3333333]], shape=(2, 4), dtype=float32)\n",
      "tf.Tensor(\n",
      "[[5.   5.75 6.  ]\n",
      " [2.75 3.75 4.75]], shape=(2, 3), dtype=float32)\n"
     ]
    }
   ],
   "source": [
    "tensor_reduce_mean_axis0 = tf.math.reduce_mean(tensor_1, axis=0, keepdims=False)\n",
    "tensor_reduce_mean_axis1 = tf.math.reduce_mean(tensor_1, axis=1, keepdims=False)\n",
    "tensor_reduce_mean_axis2 = tf.math.reduce_mean(tensor_1, axis=2, keepdims=False)\n",
    "\n",
    "print(tensor_reduce_mean_axis0)\n",
    "print(tensor_reduce_mean_axis1)\n",
    "print(tensor_reduce_mean_axis2)"
   ]
  },
  {
   "cell_type": "markdown",
   "metadata": {},
   "source": [
    "## reduce_max() / reduce_min()"
   ]
  },
  {
   "cell_type": "code",
   "execution_count": 44,
   "metadata": {},
   "outputs": [
    {
     "name": "stdout",
     "output_type": "stream",
     "text": [
      "tf.Tensor(\n",
      "[[5. 5. 8. 5.]\n",
      " [7. 7. 8. 8.]\n",
      " [8. 7. 4. 6.]], shape=(3, 4), dtype=float32)\n",
      "tf.Tensor(\n",
      "[[7. 7. 8. 8.]\n",
      " [8. 5. 6. 5.]], shape=(2, 4), dtype=float32)\n",
      "tf.Tensor(\n",
      "[[8. 8. 7.]\n",
      " [5. 7. 8.]], shape=(2, 3), dtype=float32)\n",
      "tf.Tensor(\n",
      "[[5. 0. 1. 2.]\n",
      " [0. 1. 6. 1.]\n",
      " [7. 5. 2. 4.]], shape=(3, 4), dtype=float32)\n",
      "tf.Tensor(\n",
      "[[0. 5. 4. 2.]\n",
      " [5. 0. 1. 1.]], shape=(2, 4), dtype=float32)\n",
      "tf.Tensor(\n",
      "[[2. 0. 4.]\n",
      " [0. 1. 2.]], shape=(2, 3), dtype=float32)\n"
     ]
    }
   ],
   "source": [
    "tensor_reduce_max_axis0 = tf.math.reduce_max(tensor_1, axis=0, keepdims=False)\n",
    "tensor_reduce_max_axis1 = tf.math.reduce_max(tensor_1, axis=1, keepdims=False)\n",
    "tensor_reduce_max_axis2 = tf.math.reduce_max(tensor_1, axis=2, keepdims=False)\n",
    "tensor_reduce_min_axis0 = tf.math.reduce_min(tensor_1, axis=0, keepdims=False)\n",
    "tensor_reduce_min_axis1 = tf.math.reduce_min(tensor_1, axis=1, keepdims=False)\n",
    "tensor_reduce_min_axis2 = tf.math.reduce_min(tensor_1, axis=2, keepdims=False)\n",
    "\n",
    "print(tensor_reduce_max_axis0)\n",
    "print(tensor_reduce_max_axis1)\n",
    "print(tensor_reduce_max_axis2)\n",
    "print(tensor_reduce_min_axis0)\n",
    "print(tensor_reduce_min_axis1)\n",
    "print(tensor_reduce_min_axis2)"
   ]
  },
  {
   "cell_type": "markdown",
   "metadata": {},
   "source": [
    "## sigmoid()"
   ]
  },
  {
   "cell_type": "code",
   "execution_count": 45,
   "metadata": {},
   "outputs": [
    {
     "name": "stdout",
     "output_type": "stream",
     "text": [
      "tf.Tensor(\n",
      "[[[0.9933072  0.9933072  0.99966466 0.8807971 ]\n",
      "  [0.5        0.99908894 0.99966466 0.99966466]\n",
      "  [0.99908894 0.99908894 0.98201376 0.99752736]]\n",
      "\n",
      " [[0.9933072  0.5        0.7310586  0.9933072 ]\n",
      "  [0.99908894 0.7310586  0.99752736 0.7310586 ]\n",
      "  [0.99966466 0.9933072  0.8807971  0.98201376]]], shape=(2, 3, 4), dtype=float32)\n"
     ]
    }
   ],
   "source": [
    "tensor_sigmoid = tf.math.sigmoid(tensor_1)\n",
    "\n",
    "print(tensor_sigmoid)"
   ]
  },
  {
   "cell_type": "markdown",
   "metadata": {},
   "source": [
    "## top_k()"
   ]
  },
  {
   "cell_type": "code",
   "execution_count": 48,
   "metadata": {},
   "outputs": [
    {
     "name": "stdout",
     "output_type": "stream",
     "text": [
      "TopKV2(values=<tf.Tensor: shape=(2, 3, 3), dtype=float32, numpy=\n",
      "array([[[8., 5., 5.],\n",
      "        [8., 8., 7.],\n",
      "        [7., 7., 6.]],\n",
      "\n",
      "       [[5., 5., 1.],\n",
      "        [7., 6., 1.],\n",
      "        [8., 5., 4.]]], dtype=float32)>, indices=<tf.Tensor: shape=(2, 3, 3), dtype=int32, numpy=\n",
      "array([[[2, 0, 1],\n",
      "        [2, 3, 1],\n",
      "        [0, 1, 3]],\n",
      "\n",
      "       [[0, 3, 2],\n",
      "        [0, 2, 1],\n",
      "        [0, 1, 3]]])>)\n"
     ]
    }
   ],
   "source": [
    "tensor_top_k = tf.math.top_k(tensor_1, k=2)\n",
    "\n",
    "print(tensor_top_k)"
   ]
  }
 ],
 "metadata": {
  "kernelspec": {
   "display_name": "env",
   "language": "python",
   "name": "python3"
  },
  "language_info": {
   "codemirror_mode": {
    "name": "ipython",
    "version": 3
   },
   "file_extension": ".py",
   "mimetype": "text/x-python",
   "name": "python",
   "nbconvert_exporter": "python",
   "pygments_lexer": "ipython3",
   "version": "3.11.4"
  },
  "orig_nbformat": 4
 },
 "nbformat": 4,
 "nbformat_minor": 2
}
