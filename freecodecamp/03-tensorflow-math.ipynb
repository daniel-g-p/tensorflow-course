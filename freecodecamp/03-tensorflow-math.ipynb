{
 "cells": [
  {
   "cell_type": "markdown",
   "metadata": {},
   "source": [
    "# 3. Tensorflow Math"
   ]
  },
  {
   "cell_type": "code",
   "execution_count": 1,
   "metadata": {},
   "outputs": [],
   "source": [
    "import numpy as np\n",
    "\n",
    "import tensorflow as tf"
   ]
  },
  {
   "cell_type": "code",
   "execution_count": 32,
   "metadata": {},
   "outputs": [
    {
     "name": "stdout",
     "output_type": "stream",
     "text": [
      "tf.Tensor(\n",
      "[[[ 1.773103   -1.2574004   0.16737376  1.7515436 ]\n",
      "  [ 0.0255055   1.0920552  -0.8895668  -0.06589238]\n",
      "  [-0.07758555 -1.658386    0.42244086  1.1226646 ]]\n",
      "\n",
      " [[-0.4027963   0.43229944  0.12593758 -0.19113998]\n",
      "  [-0.02955609 -0.32555753 -1.3167534  -0.87642074]\n",
      "  [ 1.5191953  -0.81137294 -0.18006086 -0.5017856 ]]], shape=(2, 3, 4), dtype=float32)\n",
      "tf.Tensor(\n",
      "[[[0 5 5 0]\n",
      "  [4 6 6 6]\n",
      "  [3 0 1 8]]\n",
      "\n",
      " [[5 8 6 2]\n",
      "  [0 5 3 3]\n",
      "  [7 8 5 3]]], shape=(2, 3, 4), dtype=int32)\n",
      "tf.Tensor(\n",
      "[[[5 3 7 0]\n",
      "  [4 4 2 2]\n",
      "  [6 5 3 7]]\n",
      "\n",
      " [[5 5 4 3]\n",
      "  [5 7 1 7]\n",
      "  [2 1 7 5]]], shape=(2, 3, 4), dtype=int32)\n"
     ]
    }
   ],
   "source": [
    "tensor_normal = tf.random.normal((2, 3, 4))\n",
    "tensor_1 = tf.constant(np.random.randint(0, 9, (2, 3, 4)))\n",
    "tensor_2 = tf.constant(np.random.randint(0, 9, (2, 3, 4)))\n",
    "\n",
    "print(tensor_normal)\n",
    "print(tensor_1)\n",
    "print(tensor_2)"
   ]
  },
  {
   "cell_type": "markdown",
   "metadata": {},
   "source": [
    "## tf.math.abs()"
   ]
  },
  {
   "cell_type": "code",
   "execution_count": 33,
   "metadata": {},
   "outputs": [
    {
     "name": "stdout",
     "output_type": "stream",
     "text": [
      "tf.Tensor(\n",
      "[[[1.773103   1.2574004  0.16737376 1.7515436 ]\n",
      "  [0.0255055  1.0920552  0.8895668  0.06589238]\n",
      "  [0.07758555 1.658386   0.42244086 1.1226646 ]]\n",
      "\n",
      " [[0.4027963  0.43229944 0.12593758 0.19113998]\n",
      "  [0.02955609 0.32555753 1.3167534  0.87642074]\n",
      "  [1.5191953  0.81137294 0.18006086 0.5017856 ]]], shape=(2, 3, 4), dtype=float32)\n"
     ]
    }
   ],
   "source": [
    "tensor_abs = tf.math.abs(tensor_normal)\n",
    "\n",
    "print(tensor_abs)"
   ]
  },
  {
   "cell_type": "markdown",
   "metadata": {},
   "source": [
    "## add() / subtract() / multiply() / divide()"
   ]
  },
  {
   "cell_type": "code",
   "execution_count": 34,
   "metadata": {},
   "outputs": [
    {
     "name": "stdout",
     "output_type": "stream",
     "text": [
      "tf.Tensor(\n",
      "[[[ 5  8 12  0]\n",
      "  [ 8 10  8  8]\n",
      "  [ 9  5  4 15]]\n",
      "\n",
      " [[10 13 10  5]\n",
      "  [ 5 12  4 10]\n",
      "  [ 9  9 12  8]]], shape=(2, 3, 4), dtype=int32)\n",
      "tf.Tensor(\n",
      "[[[-5  2 -2  0]\n",
      "  [ 0  2  4  4]\n",
      "  [-3 -5 -2  1]]\n",
      "\n",
      " [[ 0  3  2 -1]\n",
      "  [-5 -2  2 -4]\n",
      "  [ 5  7 -2 -2]]], shape=(2, 3, 4), dtype=int32)\n",
      "tf.Tensor(\n",
      "[[[ 0 15 35  0]\n",
      "  [16 24 12 12]\n",
      "  [18  0  3 56]]\n",
      "\n",
      " [[25 40 24  6]\n",
      "  [ 0 35  3 21]\n",
      "  [14  8 35 15]]], shape=(2, 3, 4), dtype=int32)\n",
      "tf.Tensor(\n",
      "[[[0.         1.66666667 0.71428571        nan]\n",
      "  [1.         1.5        3.         3.        ]\n",
      "  [0.5        0.         0.33333333 1.14285714]]\n",
      "\n",
      " [[1.         1.6        1.5        0.66666667]\n",
      "  [0.         0.71428571 3.         0.42857143]\n",
      "  [3.5        8.         0.71428571 0.6       ]]], shape=(2, 3, 4), dtype=float64)\n",
      "tf.Tensor(\n",
      "[[[      0     125   78125       1]\n",
      "  [    256    1296      36      36]\n",
      "  [    729       0       1 2097152]]\n",
      "\n",
      " [[   3125   32768    1296       8]\n",
      "  [      0   78125       3    2187]\n",
      "  [     49       8   78125     243]]], shape=(2, 3, 4), dtype=int32)\n"
     ]
    }
   ],
   "source": [
    "tensor_add = tf.math.add(tensor_1, tensor_2)\n",
    "tensor_subtract = tf.math.subtract(tensor_1, tensor_2)\n",
    "tensor_multiply = tf.math.multiply(tensor_1, tensor_2)\n",
    "tensor_divide = tf.math.divide(tensor_1, tensor_2)\n",
    "tensor_pow = tf.math.pow(tensor_1, tensor_2)\n",
    "\n",
    "print(tensor_add)\n",
    "print(tensor_subtract)\n",
    "print(tensor_multiply)\n",
    "print(tensor_divide)\n",
    "print(tensor_pow)"
   ]
  },
  {
   "cell_type": "markdown",
   "metadata": {},
   "source": [
    "## maximum() / minimum()"
   ]
  },
  {
   "cell_type": "code",
   "execution_count": 35,
   "metadata": {},
   "outputs": [
    {
     "name": "stdout",
     "output_type": "stream",
     "text": [
      "tf.Tensor(\n",
      "[[[5 5 7 0]\n",
      "  [4 6 6 6]\n",
      "  [6 5 3 8]]\n",
      "\n",
      " [[5 8 6 3]\n",
      "  [5 7 3 7]\n",
      "  [7 8 7 5]]], shape=(2, 3, 4), dtype=int32)\n",
      "tf.Tensor(\n",
      "[[[0 3 5 0]\n",
      "  [4 4 2 2]\n",
      "  [3 0 1 7]]\n",
      "\n",
      " [[5 5 4 2]\n",
      "  [0 5 1 3]\n",
      "  [2 1 5 3]]], shape=(2, 3, 4), dtype=int32)\n"
     ]
    }
   ],
   "source": [
    "tensor_maximum = tf.math.maximum(tensor_1, tensor_2)\n",
    "tensor_minimum = tf.math.minimum(tensor_1, tensor_2)\n",
    "\n",
    "print(tensor_maximum)\n",
    "print(tensor_minimum)"
   ]
  },
  {
   "cell_type": "markdown",
   "metadata": {},
   "source": [
    "## argmax() / argmin()"
   ]
  },
  {
   "cell_type": "code",
   "execution_count": 38,
   "metadata": {},
   "outputs": [
    {
     "name": "stdout",
     "output_type": "stream",
     "text": [
      "tf.Tensor(\n",
      "[[1 1 1 1]\n",
      " [0 0 0 0]\n",
      " [1 1 1 0]], shape=(3, 4), dtype=int64)\n",
      "tf.Tensor(\n",
      "[[1 1 1 2]\n",
      " [2 0 0 1]], shape=(2, 4), dtype=int64)\n",
      "tf.Tensor(\n",
      "[[1 1 3]\n",
      " [1 1 1]], shape=(2, 3), dtype=int64)\n",
      "tf.Tensor(\n",
      "[[0 0 0 0]\n",
      " [1 1 1 1]\n",
      " [0 0 0 1]], shape=(3, 4), dtype=int64)\n",
      "tf.Tensor(\n",
      "[[0 2 2 0]\n",
      " [1 1 1 0]], shape=(2, 4), dtype=int64)\n",
      "tf.Tensor(\n",
      "[[0 0 1]\n",
      " [3 0 3]], shape=(2, 3), dtype=int64)\n"
     ]
    }
   ],
   "source": [
    "tensor_argmax_axis0 = tf.math.argmax(tensor_1, axis=0)\n",
    "tensor_argmax_axis1 = tf.math.argmax(tensor_1, axis=1)\n",
    "tensor_argmax_axis2 = tf.math.argmax(tensor_1, axis=2)\n",
    "tensor_argmin_axis0 = tf.math.argmin(tensor_1, axis=0)\n",
    "tensor_argmin_axis1 = tf.math.argmin(tensor_1, axis=1)\n",
    "tensor_argmin_axis2 = tf.math.argmin(tensor_1, axis=2)\n",
    "\n",
    "print(tensor_argmax_axis0)\n",
    "print(tensor_argmax_axis1)\n",
    "print(tensor_argmax_axis2)\n",
    "print(tensor_argmin_axis0)\n",
    "print(tensor_argmin_axis1)\n",
    "print(tensor_argmin_axis2)"
   ]
  }
 ],
 "metadata": {
  "kernelspec": {
   "display_name": "env",
   "language": "python",
   "name": "python3"
  },
  "language_info": {
   "codemirror_mode": {
    "name": "ipython",
    "version": 3
   },
   "file_extension": ".py",
   "mimetype": "text/x-python",
   "name": "python",
   "nbconvert_exporter": "python",
   "pygments_lexer": "ipython3",
   "version": "3.11.4"
  },
  "orig_nbformat": 4
 },
 "nbformat": 4,
 "nbformat_minor": 2
}
