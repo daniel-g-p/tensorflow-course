{
 "cells": [
  {
   "cell_type": "markdown",
   "metadata": {},
   "source": [
    "# Audi Used Car Price Regression (Tensorflow)"
   ]
  },
  {
   "cell_type": "code",
   "execution_count": null,
   "metadata": {},
   "outputs": [],
   "source": [
    "import math\n",
    "\n",
    "import matplotlib.pyplot as plt\n",
    "\n",
    "import numpy as np\n",
    "\n",
    "import pandas as pd\n",
    "\n",
    "import seaborn as sns\n",
    "\n",
    "from sklearn.compose import ColumnTransformer\n",
    "from sklearn.impute import SimpleImputer\n",
    "from sklearn.model_selection import train_test_split\n",
    "from sklearn.pipeline import Pipeline\n",
    "from sklearn.preprocessing import MinMaxScaler, OneHotEncoder, RobustScaler, StandardScaler\n",
    "\n",
    "import statsmodels.api as sm\n",
    "\n",
    "import tensorflow as tf"
   ]
  },
  {
   "cell_type": "code",
   "execution_count": null,
   "metadata": {},
   "outputs": [],
   "source": [
    "np.random.seed(42)\n",
    "tf.random.set_seed(42)"
   ]
  },
  {
   "cell_type": "code",
   "execution_count": null,
   "metadata": {},
   "outputs": [],
   "source": [
    "data = pd.read_csv(\"../data/used-cars/audi.csv\")\n",
    "\n",
    "data = data.rename(\n",
    "    {\n",
    "        \"model\": \"model\",\n",
    "        \"year\": \"year\",\n",
    "        \"price\": \"price\",\n",
    "        \"transmission\": \"transmission\",\n",
    "        \"mileage\": \"mileage\",\n",
    "        \"model\": \"model\",\n",
    "        \"fuelType\": \"fuel_type\",\n",
    "        \"tax\": \"tax\",\n",
    "        \"mpg\": \"mpg\",\n",
    "        \"engineSize\": \"engine_size\",\n",
    "    },\n",
    "    axis=1,\n",
    ")\n",
    "\n",
    "data = data.reindex(sorted(data.columns), axis=1)"
   ]
  },
  {
   "cell_type": "code",
   "execution_count": null,
   "metadata": {},
   "outputs": [],
   "source": [
    "print(\"--------------------------------------------------\")\n",
    "print(\"Sample\")\n",
    "print(\"--------------------------------------------------\")\n",
    "\n",
    "data.sample(10)"
   ]
  },
  {
   "cell_type": "code",
   "execution_count": null,
   "metadata": {},
   "outputs": [],
   "source": [
    "print(\"--------------------------------------------------\")\n",
    "print(\"Data Types\")\n",
    "print(\"--------------------------------------------------\")\n",
    "\n",
    "for label, content in data.items():\n",
    "    print(f\"{label}: {content.dtypes}\")"
   ]
  },
  {
   "cell_type": "code",
   "execution_count": null,
   "metadata": {},
   "outputs": [],
   "source": [
    "print(\"--------------------------------------------------\")\n",
    "print(\"Missing Values\")\n",
    "print(\"--------------------------------------------------\")\n",
    "\n",
    "for label, content in data.items():\n",
    "    print(f\"{label}: {content.isna().sum()}\")"
   ]
  },
  {
   "cell_type": "code",
   "execution_count": null,
   "metadata": {},
   "outputs": [],
   "source": [
    "print(\"--------------------------------------------------\")\n",
    "print(\"Descriptive Statistics\")\n",
    "print(\"--------------------------------------------------\")\n",
    "\n",
    "data.describe().transpose().round(3)"
   ]
  },
  {
   "cell_type": "code",
   "execution_count": null,
   "metadata": {},
   "outputs": [],
   "source": [
    "print(\"--------------------------------------------------\")\n",
    "print(\"Histograms\")\n",
    "print(\"--------------------------------------------------\")\n",
    "\n",
    "n_histograms = len(data.columns)\n",
    "n_histogram_rows = math.ceil(n_histograms / 3)\n",
    "fig, axes = plt.subplots(ncols=3, nrows=n_histogram_rows)\n",
    "fig.set_size_inches(18, n_histogram_rows * 6)\n",
    "axes = axes.flatten()\n",
    "\n",
    "for index, column in enumerate(data.columns):\n",
    "    ax = axes[index]\n",
    "    ax.set_title(column)\n",
    "    ax.set(xlabel=None, ylabel=None)\n",
    "    sns.histplot(data[column], ax=ax)"
   ]
  },
  {
   "cell_type": "code",
   "execution_count": null,
   "metadata": {},
   "outputs": [],
   "source": [
    "print(\"--------------------------------------------------\")\n",
    "print(\"Feature Types\")\n",
    "print(\"--------------------------------------------------\")\n",
    "\n",
    "cat_features = [\"fuel_type\", \"model\", \"transmission\"]\n",
    "num_features = [\"engine_size\", \"mileage\", \"mpg\", \"tax\", \"year\"]\n",
    "\n",
    "print(f\"Categorical Features: {cat_features}\")\n",
    "print(f\"Numeric Features: {num_features}\")"
   ]
  },
  {
   "cell_type": "code",
   "execution_count": null,
   "metadata": {},
   "outputs": [],
   "source": [
    "print(\"--------------------------------------------------\")\n",
    "print(\"Q-Q Plots\")\n",
    "print(\"--------------------------------------------------\")\n",
    "\n",
    "n_qqplots = len(data[num_features].columns)\n",
    "n_qqplot_rows = math.ceil(n_qqplots / 3)\n",
    "fig, axes = plt.subplots(ncols=3, nrows=n_qqplot_rows)\n",
    "fig.set_size_inches(18, n_qqplot_rows * 6)\n",
    "axes = axes.flatten()\n",
    "\n",
    "for index, column in enumerate(data[num_features].columns):\n",
    "    ax = axes[index]\n",
    "    ax.set_title(column)\n",
    "    ax.set(xlabel=None, ylabel=None)\n",
    "    sm.qqplot(data[column], line=\"s\", ax=ax)"
   ]
  },
  {
   "cell_type": "code",
   "execution_count": null,
   "metadata": {},
   "outputs": [],
   "source": [
    "print(\"--------------------------------------------------\")\n",
    "print(\"Pairwise Relationships\")\n",
    "print(\"--------------------------------------------------\")\n",
    "\n",
    "sns.pairplot(data[num_features], plot_kws={\"s\": 8})"
   ]
  },
  {
   "cell_type": "code",
   "execution_count": null,
   "metadata": {},
   "outputs": [],
   "source": [
    "X = data.drop([\"price\"], axis=1)\n",
    "y = data[\"price\"]\n",
    "\n",
    "X_train, X_test, y_train, y_test = train_test_split(X, y, test_size=0.2)\n",
    "\n",
    "imputer = ColumnTransformer(\n",
    "    [\n",
    "        (\n",
    "            \"imputer_cat\",\n",
    "            SimpleImputer(strategy=\"most_frequent\", add_indicator=True),\n",
    "            cat_features,\n",
    "        ),\n",
    "        (\n",
    "            \"imputer_num\",\n",
    "            SimpleImputer(strategy=\"median\", add_indicator=True),\n",
    "            num_features,\n",
    "        ),\n",
    "    ],\n",
    "    remainder=\"passthrough\",\n",
    "    verbose_feature_names_out=False,\n",
    ")\n",
    "\n",
    "standard_scaler = ColumnTransformer(\n",
    "    [\n",
    "        (\n",
    "            \"standard_scaler\",\n",
    "            StandardScaler(),\n",
    "            num_features,\n",
    "        ),\n",
    "    ],\n",
    "    remainder=\"passthrough\",\n",
    "    verbose_feature_names_out=False,\n",
    ")\n",
    "\n",
    "minmax_scaler = ColumnTransformer(\n",
    "    [\n",
    "        (\n",
    "            \"minmax_scaler\",\n",
    "            MinMaxScaler(feature_range=(0, 1)),\n",
    "            num_features,\n",
    "        ),\n",
    "    ],\n",
    "    remainder=\"passthrough\",\n",
    "    verbose_feature_names_out=False,\n",
    ")\n",
    "\n",
    "encoder = ColumnTransformer(\n",
    "    [\n",
    "        (\n",
    "            \"encoder_cat\",\n",
    "            OneHotEncoder(handle_unknown=\"ignore\", sparse_output=False),\n",
    "            cat_features,\n",
    "        ),\n",
    "    ],\n",
    "    remainder=\"passthrough\",\n",
    "    verbose_feature_names_out=False,\n",
    ")\n",
    "\n",
    "preprocessing_pipeline = Pipeline(\n",
    "    [\n",
    "        (\"imputer\", imputer),\n",
    "        (\"standard_scaler\", standard_scaler),\n",
    "        (\"minmax_scaler\", minmax_scaler),\n",
    "        (\"encoder\", encoder),\n",
    "    ],\n",
    ").set_output(transform=\"pandas\")\n",
    "\n",
    "preprocessing_pipeline.fit(X_train)\n",
    "\n",
    "X_train = preprocessing_pipeline.transform(X_train)\n",
    "X_test = preprocessing_pipeline.transform(X_test)\n",
    "\n",
    "X_train = tf.convert_to_tensor(X_train)\n",
    "y_train = tf.convert_to_tensor(y_train)\n",
    "X_test = tf.convert_to_tensor(X_test)\n",
    "y_test = tf.convert_to_tensor(y_test)\n",
    "\n",
    "print(\"--------------------------------------------------\")\n",
    "print(\"Dataset Shapes\")\n",
    "print(\"--------------------------------------------------\")\n",
    "print(f\"X_train: {X_train.shape}\")\n",
    "print(f\"y_train: {y_train.shape}\")\n",
    "print(f\"X_test: {X_test.shape}\")\n",
    "print(f\"y_test: {y_test.shape}\")"
   ]
  },
  {
   "cell_type": "code",
   "execution_count": null,
   "metadata": {},
   "outputs": [],
   "source": [
    "model = tf.keras.Sequential(\n",
    "    [\n",
    "        tf.keras.layers.Input(shape=(X_train.shape[1]), name=\"input\"),\n",
    "        tf.keras.layers.Dense(64, name=\"dense_1\"),\n",
    "        tf.keras.layers.Dense(128, name=\"dense_2\"),\n",
    "        tf.keras.layers.Dense(64, name=\"dense_3\"),\n",
    "        tf.keras.layers.Dense(32, name=\"dense_4\"),\n",
    "        tf.keras.layers.Dense(1, name=\"output\"),\n",
    "    ],\n",
    "    name=\"model\",\n",
    ")\n",
    "\n",
    "model.summary()"
   ]
  },
  {
   "cell_type": "code",
   "execution_count": null,
   "metadata": {},
   "outputs": [],
   "source": [
    "optimizer = tf.keras.optimizers.Adam()\n",
    "loss = tf.keras.losses.MeanSquaredError()\n",
    "metrics = tf.keras.metrics.MeanAbsoluteError()\n",
    "\n",
    "model.compile(optimizer, loss, metrics)"
   ]
  },
  {
   "cell_type": "code",
   "execution_count": null,
   "metadata": {},
   "outputs": [],
   "source": [
    "model.fit(X_train, y_train, batch_size=32, epochs=32, shuffle=True, validation_split=0.2)"
   ]
  },
  {
   "cell_type": "code",
   "execution_count": null,
   "metadata": {},
   "outputs": [],
   "source": [
    "y_pred = model.predict(X_test)\n",
    "\n",
    "y_min = min([np.amin(y_pred), np.amin(y_test)])\n",
    "y_max = max([np.amax(y_pred), np.amax(y_test)])\n",
    "\n",
    "fig, ax = plt.subplots()\n",
    "fig.set_size_inches(8, 8)\n",
    "\n",
    "ax.scatter(y_test, y_pred, color=\"blue\", s=8)\n",
    "ax.axline([y_min, y_min], [y_max, y_max], color=\"red\")\n",
    "\n",
    "ax.set_xlabel(\"True Value\")\n",
    "ax.set_ylabel(\"Predicted Value\")\n",
    "ax.set_xbound(y_min, y_max)\n",
    "ax.set_ybound(y_min, y_max)"
   ]
  }
 ],
 "metadata": {
  "kernelspec": {
   "display_name": "env",
   "language": "python",
   "name": "python3"
  },
  "language_info": {
   "codemirror_mode": {
    "name": "ipython",
    "version": 3
   },
   "file_extension": ".py",
   "mimetype": "text/x-python",
   "name": "python",
   "nbconvert_exporter": "python",
   "pygments_lexer": "ipython3",
   "version": "3.11.4"
  },
  "orig_nbformat": 4
 },
 "nbformat": 4,
 "nbformat_minor": 2
}
