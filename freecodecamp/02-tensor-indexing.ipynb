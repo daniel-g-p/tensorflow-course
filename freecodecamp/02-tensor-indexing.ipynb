{
 "cells": [
  {
   "cell_type": "markdown",
   "metadata": {},
   "source": [
    "# 2. Tensor Indexing"
   ]
  },
  {
   "cell_type": "code",
   "execution_count": 25,
   "metadata": {},
   "outputs": [],
   "source": [
    "import numpy as np\n",
    "\n",
    "import tensorflow as tf"
   ]
  },
  {
   "cell_type": "code",
   "execution_count": 34,
   "metadata": {},
   "outputs": [
    {
     "name": "stdout",
     "output_type": "stream",
     "text": [
      "tf.Tensor(\n",
      "[[[6 3 7 4 6]\n",
      "  [9 2 6 7 4]\n",
      "  [3 7 7 2 5]\n",
      "  [4 1 7 5 1]]\n",
      "\n",
      " [[4 0 9 5 8]\n",
      "  [0 9 2 6 3]\n",
      "  [8 2 4 2 6]\n",
      "  [4 8 6 1 3]]\n",
      "\n",
      " [[8 1 9 8 9]\n",
      "  [4 1 3 6 7]\n",
      "  [2 0 3 1 7]\n",
      "  [3 1 5 5 9]]], shape=(3, 4, 5), dtype=int32)\n"
     ]
    }
   ],
   "source": [
    "np.random.seed(42)\n",
    "\n",
    "tensor = tf.constant(np.random.randint(0, 10, (3, 4, 5)))\n",
    "\n",
    "print(tensor)"
   ]
  },
  {
   "cell_type": "code",
   "execution_count": 36,
   "metadata": {},
   "outputs": [
    {
     "name": "stdout",
     "output_type": "stream",
     "text": [
      "tf.Tensor(\n",
      "[[[4 0 9 5 8]\n",
      "  [0 9 2 6 3]\n",
      "  [8 2 4 2 6]\n",
      "  [4 8 6 1 3]]], shape=(1, 4, 5), dtype=int32)\n",
      "tf.Tensor(\n",
      "[[[4 0 9 5 8]\n",
      "  [0 9 2 6 3]\n",
      "  [8 2 4 2 6]\n",
      "  [4 8 6 1 3]]\n",
      "\n",
      " [[8 1 9 8 9]\n",
      "  [4 1 3 6 7]\n",
      "  [2 0 3 1 7]\n",
      "  [3 1 5 5 9]]], shape=(2, 4, 5), dtype=int32)\n",
      "tf.Tensor(\n",
      "[[[6 3 7 4 6]\n",
      "  [9 2 6 7 4]\n",
      "  [3 7 7 2 5]\n",
      "  [4 1 7 5 1]]\n",
      "\n",
      " [[4 0 9 5 8]\n",
      "  [0 9 2 6 3]\n",
      "  [8 2 4 2 6]\n",
      "  [4 8 6 1 3]]], shape=(2, 4, 5), dtype=int32)\n"
     ]
    }
   ],
   "source": [
    "print(tensor[1:2])\n",
    "print(tensor[1:])\n",
    "print(tensor[:2])"
   ]
  },
  {
   "cell_type": "code",
   "execution_count": 37,
   "metadata": {},
   "outputs": [
    {
     "name": "stdout",
     "output_type": "stream",
     "text": [
      "tf.Tensor(\n",
      "[[[0 9 2 6 3]\n",
      "  [8 2 4 2 6]]], shape=(1, 2, 5), dtype=int32)\n",
      "tf.Tensor(\n",
      "[[[0 9 2 6 3]\n",
      "  [8 2 4 2 6]\n",
      "  [4 8 6 1 3]]], shape=(1, 3, 5), dtype=int32)\n",
      "tf.Tensor(\n",
      "[[[4 0 9 5 8]\n",
      "  [0 9 2 6 3]\n",
      "  [8 2 4 2 6]]], shape=(1, 3, 5), dtype=int32)\n"
     ]
    }
   ],
   "source": [
    "print(tensor[1:2, 1:3])\n",
    "print(tensor[1:2, 1:])\n",
    "print(tensor[1:2, :3])"
   ]
  },
  {
   "cell_type": "code",
   "execution_count": 39,
   "metadata": {},
   "outputs": [
    {
     "name": "stdout",
     "output_type": "stream",
     "text": [
      "tf.Tensor(\n",
      "[[[9 2 6]\n",
      "  [2 4 2]]], shape=(1, 2, 3), dtype=int32)\n",
      "tf.Tensor(\n",
      "[[[9 2 6 3]\n",
      "  [2 4 2 6]]], shape=(1, 2, 4), dtype=int32)\n",
      "tf.Tensor(\n",
      "[[[0 9 2 6]\n",
      "  [8 2 4 2]]], shape=(1, 2, 4), dtype=int32)\n"
     ]
    }
   ],
   "source": [
    "print(tensor[1:2, 1:3, 1:4])\n",
    "print(tensor[1:2, 1:3, 1:])\n",
    "print(tensor[1:2, 1:3, :4])"
   ]
  }
 ],
 "metadata": {
  "kernelspec": {
   "display_name": "env",
   "language": "python",
   "name": "python3"
  },
  "language_info": {
   "codemirror_mode": {
    "name": "ipython",
    "version": 3
   },
   "file_extension": ".py",
   "mimetype": "text/x-python",
   "name": "python",
   "nbconvert_exporter": "python",
   "pygments_lexer": "ipython3",
   "version": "3.11.4"
  },
  "orig_nbformat": 4
 },
 "nbformat": 4,
 "nbformat_minor": 2
}
