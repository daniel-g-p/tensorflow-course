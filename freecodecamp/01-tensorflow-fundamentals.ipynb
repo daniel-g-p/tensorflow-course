{
 "cells": [
  {
   "cell_type": "markdown",
   "metadata": {},
   "source": [
    "# 1. Tensorflow Fundamentals"
   ]
  },
  {
   "cell_type": "code",
   "execution_count": 1,
   "metadata": {},
   "outputs": [],
   "source": [
    "import numpy as np\n",
    "\n",
    "import tensorflow as tf"
   ]
  },
  {
   "cell_type": "markdown",
   "metadata": {},
   "source": [
    "## tf.constant()"
   ]
  },
  {
   "cell_type": "code",
   "execution_count": 2,
   "metadata": {},
   "outputs": [
    {
     "name": "stdout",
     "output_type": "stream",
     "text": [
      "tf.Tensor(2, shape=(), dtype=int32)\n"
     ]
    }
   ],
   "source": [
    "tensor_0d = tf.constant(np.random.randint(0, 10))\n",
    "print(tensor_0d)"
   ]
  },
  {
   "cell_type": "code",
   "execution_count": 3,
   "metadata": {},
   "outputs": [
    {
     "name": "stdout",
     "output_type": "stream",
     "text": [
      "tf.Tensor([7 8 2 0 6], shape=(5,), dtype=int32)\n"
     ]
    }
   ],
   "source": [
    "tensor_1d = tf.constant(np.random.randint(0, 10, (5)))\n",
    "print(tensor_1d)"
   ]
  },
  {
   "cell_type": "code",
   "execution_count": 4,
   "metadata": {},
   "outputs": [
    {
     "name": "stdout",
     "output_type": "stream",
     "text": [
      "tf.Tensor(\n",
      "[[9 9 6 5 0]\n",
      " [3 7 9 5 1]\n",
      " [5 1 2 0 4]\n",
      " [3 0 5 9 6]], shape=(4, 5), dtype=int32)\n"
     ]
    }
   ],
   "source": [
    "tensor_2d = tf.constant(np.random.randint(0, 10, (4, 5)))\n",
    "print(tensor_2d)"
   ]
  },
  {
   "cell_type": "code",
   "execution_count": 5,
   "metadata": {},
   "outputs": [
    {
     "name": "stdout",
     "output_type": "stream",
     "text": [
      "tf.Tensor(\n",
      "[[[6 1 7 0 3]\n",
      "  [8 1 9 0 4]\n",
      "  [5 9 4 7 2]\n",
      "  [3 6 7 3 2]]\n",
      "\n",
      " [[9 2 2 1 1]\n",
      "  [2 3 6 6 6]\n",
      "  [7 8 9 2 8]\n",
      "  [8 5 8 7 3]]\n",
      "\n",
      " [[9 2 3 2 9]\n",
      "  [0 8 1 2 2]\n",
      "  [1 4 0 2 9]\n",
      "  [0 9 4 3 6]]], shape=(3, 4, 5), dtype=int32)\n"
     ]
    }
   ],
   "source": [
    "tensor_3d = tf.constant(np.random.randint(0, 10, (3, 4, 5)))\n",
    "print(tensor_3d)"
   ]
  },
  {
   "cell_type": "code",
   "execution_count": 6,
   "metadata": {},
   "outputs": [
    {
     "name": "stdout",
     "output_type": "stream",
     "text": [
      "tf.Tensor(\n",
      "[[[[9 1 7 9 3]\n",
      "   [9 2 8 2 8]\n",
      "   [2 1 5 1 9]\n",
      "   [4 6 5 6 9]]\n",
      "\n",
      "  [[6 8 7 0 6]\n",
      "   [5 2 6 4 7]\n",
      "   [9 1 9 1 7]\n",
      "   [0 7 5 4 9]]\n",
      "\n",
      "  [[1 2 4 7 1]\n",
      "   [9 4 0 7 1]\n",
      "   [9 5 3 1 6]\n",
      "   [3 2 3 6 6]]]\n",
      "\n",
      "\n",
      " [[[3 4 0 2 4]\n",
      "   [6 4 8 8 6]\n",
      "   [0 1 4 5 8]\n",
      "   [9 5 5 1 9]]\n",
      "\n",
      "  [[8 4 6 7 0]\n",
      "   [5 6 7 1 4]\n",
      "   [2 6 7 9 8]\n",
      "   [7 1 8 3 6]]\n",
      "\n",
      "  [[8 7 2 8 0]\n",
      "   [6 7 3 6 2]\n",
      "   [1 5 9 3 6]\n",
      "   [1 9 5 0 0]]]], shape=(2, 3, 4, 5), dtype=int32)\n"
     ]
    }
   ],
   "source": [
    "tensor_4d = tf.constant(np.random.randint(0, 10, (2, 3, 4, 5)))\n",
    "print(tensor_4d)"
   ]
  },
  {
   "cell_type": "code",
   "execution_count": 7,
   "metadata": {},
   "outputs": [
    {
     "name": "stdout",
     "output_type": "stream",
     "text": [
      "tf.Tensor(True, shape=(), dtype=bool)\n"
     ]
    }
   ],
   "source": [
    "tensor_boolean_0d = tf.constant(True)\n",
    "print(tensor_boolean_0d)"
   ]
  },
  {
   "cell_type": "code",
   "execution_count": 8,
   "metadata": {},
   "outputs": [
    {
     "name": "stdout",
     "output_type": "stream",
     "text": [
      "tf.Tensor([ True  True False], shape=(3,), dtype=bool)\n"
     ]
    }
   ],
   "source": [
    "tensor_boolean_1d = tf.constant([True, True, False])\n",
    "print(tensor_boolean_1d)"
   ]
  },
  {
   "cell_type": "code",
   "execution_count": 9,
   "metadata": {},
   "outputs": [
    {
     "name": "stdout",
     "output_type": "stream",
     "text": [
      "tf.Tensor(b'Hello World', shape=(), dtype=string)\n"
     ]
    }
   ],
   "source": [
    "tensor_string_0d = tf.constant(\"Hello World\")\n",
    "print(tensor_string_0d)"
   ]
  },
  {
   "cell_type": "code",
   "execution_count": 10,
   "metadata": {},
   "outputs": [
    {
     "name": "stdout",
     "output_type": "stream",
     "text": [
      "tf.Tensor([b'Hello' b'World'], shape=(2,), dtype=string)\n"
     ]
    }
   ],
   "source": [
    "tensor_string_1d = tf.constant([\"Hello\", \"World\"])\n",
    "print(tensor_string_1d)"
   ]
  },
  {
   "cell_type": "markdown",
   "metadata": {},
   "source": [
    "## tf.cast()"
   ]
  },
  {
   "cell_type": "code",
   "execution_count": 11,
   "metadata": {},
   "outputs": [
    {
     "name": "stdout",
     "output_type": "stream",
     "text": [
      "tf.Tensor(\n",
      "[[[ True  True  True False  True]\n",
      "  [ True  True  True False  True]\n",
      "  [ True  True  True  True  True]\n",
      "  [ True  True  True  True  True]]\n",
      "\n",
      " [[ True  True  True  True  True]\n",
      "  [ True  True  True  True  True]\n",
      "  [ True  True  True  True  True]\n",
      "  [ True  True  True  True  True]]\n",
      "\n",
      " [[ True  True  True  True  True]\n",
      "  [False  True  True  True  True]\n",
      "  [ True  True False  True  True]\n",
      "  [False  True  True  True  True]]], shape=(3, 4, 5), dtype=bool)\n"
     ]
    }
   ],
   "source": [
    "cast_tensor_3d = tf.cast(tensor_3d, dtype=tf.bool)\n",
    "print(cast_tensor_3d)"
   ]
  },
  {
   "cell_type": "markdown",
   "metadata": {},
   "source": [
    "## tf.eye()"
   ]
  },
  {
   "cell_type": "code",
   "execution_count": 12,
   "metadata": {},
   "outputs": [
    {
     "name": "stdout",
     "output_type": "stream",
     "text": [
      "tf.Tensor(\n",
      "[[[1 0 0 0 0 0 0 0]\n",
      "  [0 1 0 0 0 0 0 0]\n",
      "  [0 0 1 0 0 0 0 0]\n",
      "  [0 0 0 1 0 0 0 0]\n",
      "  [0 0 0 0 1 0 0 0]\n",
      "  [0 0 0 0 0 1 0 0]\n",
      "  [0 0 0 0 0 0 1 0]\n",
      "  [0 0 0 0 0 0 0 1]]\n",
      "\n",
      " [[1 0 0 0 0 0 0 0]\n",
      "  [0 1 0 0 0 0 0 0]\n",
      "  [0 0 1 0 0 0 0 0]\n",
      "  [0 0 0 1 0 0 0 0]\n",
      "  [0 0 0 0 1 0 0 0]\n",
      "  [0 0 0 0 0 1 0 0]\n",
      "  [0 0 0 0 0 0 1 0]\n",
      "  [0 0 0 0 0 0 0 1]]], shape=(2, 8, 8), dtype=int32)\n"
     ]
    }
   ],
   "source": [
    "eye_tensor = tf.eye(num_rows=8, batch_shape=[2], dtype=tf.dtypes.int32)\n",
    "print(eye_tensor)"
   ]
  },
  {
   "cell_type": "markdown",
   "metadata": {},
   "source": [
    "## tf.fill()"
   ]
  },
  {
   "cell_type": "code",
   "execution_count": 13,
   "metadata": {},
   "outputs": [
    {
     "name": "stdout",
     "output_type": "stream",
     "text": [
      "tf.Tensor(\n",
      "[[[8 8 8 8]\n",
      "  [8 8 8 8]\n",
      "  [8 8 8 8]]\n",
      "\n",
      " [[8 8 8 8]\n",
      "  [8 8 8 8]\n",
      "  [8 8 8 8]]], shape=(2, 3, 4), dtype=int32)\n"
     ]
    }
   ],
   "source": [
    "fill_tensor = tf.fill(dims=(2, 3, 4), value=8)\n",
    "print(fill_tensor)"
   ]
  },
  {
   "cell_type": "markdown",
   "metadata": {},
   "source": [
    "## tf.ones()"
   ]
  },
  {
   "cell_type": "code",
   "execution_count": 14,
   "metadata": {},
   "outputs": [
    {
     "name": "stdout",
     "output_type": "stream",
     "text": [
      "tf.Tensor(\n",
      "[[[1 1 1 1]\n",
      "  [1 1 1 1]\n",
      "  [1 1 1 1]]\n",
      "\n",
      " [[1 1 1 1]\n",
      "  [1 1 1 1]\n",
      "  [1 1 1 1]]], shape=(2, 3, 4), dtype=int32)\n"
     ]
    }
   ],
   "source": [
    "ones_tensor = tf.ones(shape=(2, 3, 4), dtype=tf.dtypes.int32)\n",
    "print(ones_tensor)"
   ]
  },
  {
   "cell_type": "markdown",
   "metadata": {},
   "source": [
    "## tf.ones_like()"
   ]
  },
  {
   "cell_type": "code",
   "execution_count": 15,
   "metadata": {},
   "outputs": [
    {
     "name": "stdout",
     "output_type": "stream",
     "text": [
      "tf.Tensor(\n",
      "[[[1 1 1 1 1]\n",
      "  [1 1 1 1 1]\n",
      "  [1 1 1 1 1]\n",
      "  [1 1 1 1 1]]\n",
      "\n",
      " [[1 1 1 1 1]\n",
      "  [1 1 1 1 1]\n",
      "  [1 1 1 1 1]\n",
      "  [1 1 1 1 1]]\n",
      "\n",
      " [[1 1 1 1 1]\n",
      "  [1 1 1 1 1]\n",
      "  [1 1 1 1 1]\n",
      "  [1 1 1 1 1]]], shape=(3, 4, 5), dtype=int32)\n"
     ]
    }
   ],
   "source": [
    "ones_like_tensor = tf.ones_like(input=tensor_3d, dtype=tf.dtypes.int32)\n",
    "print(ones_like_tensor)"
   ]
  },
  {
   "cell_type": "markdown",
   "metadata": {},
   "source": [
    "## tf.zeros()"
   ]
  },
  {
   "cell_type": "code",
   "execution_count": 16,
   "metadata": {},
   "outputs": [
    {
     "name": "stdout",
     "output_type": "stream",
     "text": [
      "tf.Tensor(\n",
      "[[[0 0 0 0]\n",
      "  [0 0 0 0]\n",
      "  [0 0 0 0]]\n",
      "\n",
      " [[0 0 0 0]\n",
      "  [0 0 0 0]\n",
      "  [0 0 0 0]]], shape=(2, 3, 4), dtype=int32)\n"
     ]
    }
   ],
   "source": [
    "zeros_tensor = tf.zeros(shape=(2, 3, 4), dtype=tf.dtypes.int32)\n",
    "print(zeros_tensor)"
   ]
  },
  {
   "cell_type": "markdown",
   "metadata": {},
   "source": [
    "## tf.zeros_like()"
   ]
  },
  {
   "cell_type": "code",
   "execution_count": 17,
   "metadata": {},
   "outputs": [
    {
     "name": "stdout",
     "output_type": "stream",
     "text": [
      "tf.Tensor(\n",
      "[[[0 0 0 0 0]\n",
      "  [0 0 0 0 0]\n",
      "  [0 0 0 0 0]\n",
      "  [0 0 0 0 0]]\n",
      "\n",
      " [[0 0 0 0 0]\n",
      "  [0 0 0 0 0]\n",
      "  [0 0 0 0 0]\n",
      "  [0 0 0 0 0]]\n",
      "\n",
      " [[0 0 0 0 0]\n",
      "  [0 0 0 0 0]\n",
      "  [0 0 0 0 0]\n",
      "  [0 0 0 0 0]]], shape=(3, 4, 5), dtype=int32)\n"
     ]
    }
   ],
   "source": [
    "zeros_like_tensor = tf.zeros_like(input=tensor_3d, dtype=tf.dtypes.int32)\n",
    "print(zeros_like_tensor)"
   ]
  },
  {
   "cell_type": "markdown",
   "metadata": {},
   "source": [
    "## tf.shape()"
   ]
  },
  {
   "cell_type": "code",
   "execution_count": 18,
   "metadata": {},
   "outputs": [
    {
     "name": "stdout",
     "output_type": "stream",
     "text": [
      "tf.Tensor([3 4 5], shape=(3,), dtype=int32)\n"
     ]
    }
   ],
   "source": [
    "shape_tensor = tf.shape(input=tensor_3d)\n",
    "print(shape_tensor)"
   ]
  },
  {
   "cell_type": "markdown",
   "metadata": {},
   "source": [
    "## tf.size()"
   ]
  },
  {
   "cell_type": "code",
   "execution_count": 19,
   "metadata": {},
   "outputs": [
    {
     "name": "stdout",
     "output_type": "stream",
     "text": [
      "tf.Tensor(60, shape=(), dtype=int32)\n"
     ]
    }
   ],
   "source": [
    "size_tensor = tf.size(input=tensor_3d)\n",
    "print(size_tensor)"
   ]
  },
  {
   "cell_type": "markdown",
   "metadata": {},
   "source": [
    "## tf.random.normal()"
   ]
  },
  {
   "cell_type": "code",
   "execution_count": 20,
   "metadata": {},
   "outputs": [
    {
     "name": "stdout",
     "output_type": "stream",
     "text": [
      "tf.Tensor(\n",
      "[[[ 97.192245  98.62248   93.2367   100.245804  91.064156]\n",
      "  [ 91.71527  112.06895  113.81016   85.442024  97.537865]\n",
      "  [ 86.391594 110.8796    96.48834   94.861465 134.1172  ]\n",
      "  [100.58855  108.91802   92.47117   95.66427  124.53853 ]]\n",
      "\n",
      " [[103.13744   94.72638  108.524994  94.620865 110.51236 ]\n",
      "  [100.9101   100.407814 108.86037   93.40217  127.01756 ]\n",
      "  [109.43287  101.415474  93.13509  106.20947  116.37643 ]\n",
      "  [ 97.660736 111.947395  96.7598   107.910866  84.205414]]\n",
      "\n",
      " [[101.84361   96.77201   96.687164  92.506226  87.44516 ]\n",
      "  [109.09204  100.34244  112.57801  121.37242   95.20366 ]\n",
      "  [ 94.536316 105.34391   94.06689  111.86012  105.92192 ]\n",
      "  [ 91.172615  97.20807  105.73751  103.22316   83.58027 ]]], shape=(3, 4, 5), dtype=float32)\n"
     ]
    }
   ],
   "source": [
    "random_normal_tensor = tf.random.normal(\n",
    "    shape=(3, 4, 5),\n",
    "    mean=100,\n",
    "    stddev=10,\n",
    "    seed=42,\n",
    ")\n",
    "print(random_normal_tensor)"
   ]
  },
  {
   "cell_type": "markdown",
   "metadata": {},
   "source": [
    "## tf.random.uniform()"
   ]
  },
  {
   "cell_type": "code",
   "execution_count": 21,
   "metadata": {},
   "outputs": [
    {
     "name": "stdout",
     "output_type": "stream",
     "text": [
      "tf.Tensor(\n",
      "[[[2 4 3 9 1]\n",
      "  [8 8 3 5 6]\n",
      "  [6 9 9 6 1]\n",
      "  [7 5 2 2 0]]\n",
      "\n",
      " [[8 1 6 1 2]\n",
      "  [3 9 0 2 9]\n",
      "  [6 6 2 9 2]\n",
      "  [5 2 8 6 2]]\n",
      "\n",
      " [[5 0 4 8 3]\n",
      "  [9 8 5 5 8]\n",
      "  [7 9 6 9 6]\n",
      "  [6 4 9 6 1]]], shape=(3, 4, 5), dtype=int32)\n"
     ]
    }
   ],
   "source": [
    "random_uniform_tensor = tf.random.uniform(\n",
    "    shape=(3, 4, 5),\n",
    "    minval=0,\n",
    "    maxval=10,\n",
    "    dtype=tf.dtypes.int32,\n",
    "    seed=42,\n",
    ")\n",
    "print(random_uniform_tensor)"
   ]
  }
 ],
 "metadata": {
  "kernelspec": {
   "display_name": "env",
   "language": "python",
   "name": "python3"
  },
  "language_info": {
   "codemirror_mode": {
    "name": "ipython",
    "version": 3
   },
   "file_extension": ".py",
   "mimetype": "text/x-python",
   "name": "python",
   "nbconvert_exporter": "python",
   "pygments_lexer": "ipython3",
   "version": "3.11.4"
  },
  "orig_nbformat": 4
 },
 "nbformat": 4,
 "nbformat_minor": 2
}
