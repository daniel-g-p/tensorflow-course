{
 "cells": [
  {
   "cell_type": "markdown",
   "metadata": {},
   "source": [
    "# 6. Ragged Tensors"
   ]
  },
  {
   "cell_type": "code",
   "execution_count": 22,
   "metadata": {},
   "outputs": [],
   "source": [
    "import numpy as np\n",
    "\n",
    "import tensorflow as tf"
   ]
  },
  {
   "cell_type": "code",
   "execution_count": 23,
   "metadata": {},
   "outputs": [],
   "source": [
    "np.random.seed(42)\n",
    "tf.random.set_seed(42)"
   ]
  },
  {
   "cell_type": "markdown",
   "metadata": {},
   "source": [
    "## constant()"
   ]
  },
  {
   "cell_type": "code",
   "execution_count": 24,
   "metadata": {},
   "outputs": [
    {
     "name": "stdout",
     "output_type": "stream",
     "text": [
      "<tf.RaggedTensor [[4, 5, 3, 5], [5, 2], [3, 3, 3], [5]]>\n"
     ]
    }
   ],
   "source": [
    "tensor = tf.ragged.constant(\n",
    "    [\n",
    "        np.random.randint(1, 6, (4)),\n",
    "        np.random.randint(1, 6, (2)),\n",
    "        np.random.randint(1, 6, (3)),\n",
    "        np.random.randint(1, 6, (1)),\n",
    "    ]\n",
    ")\n",
    "\n",
    "print(tensor)"
   ]
  },
  {
   "cell_type": "markdown",
   "metadata": {},
   "source": [
    "## boolean_mask()"
   ]
  },
  {
   "cell_type": "code",
   "execution_count": 25,
   "metadata": {},
   "outputs": [
    {
     "name": "stdout",
     "output_type": "stream",
     "text": [
      "<tf.RaggedTensor [[2, 1, 4, 3], [1, 2], [1, 4, 1], [3]]>\n",
      "<tf.RaggedTensor [[2, 4], [1, 2], [4, 1], [3]]>\n",
      "<tf.RaggedTensor [[2, 1, 4, 3], [3]]>\n"
     ]
    }
   ],
   "source": [
    "tensor = tf.ragged.constant(\n",
    "    [\n",
    "        [2, 1, 4, 3],\n",
    "        [1, 2],\n",
    "        [1, 4, 1],\n",
    "        [3],\n",
    "    ]\n",
    ")\n",
    "\n",
    "print(tensor)\n",
    "\n",
    "mask0 = tf.ragged.constant(\n",
    "    [\n",
    "        [True, False, True, False],\n",
    "        [True, True],\n",
    "        [False, True, True],\n",
    "        [True],\n",
    "    ]\n",
    ")\n",
    "\n",
    "mask1 = tf.ragged.constant([True, False, False, True])\n",
    "\n",
    "output0 = tf.ragged.boolean_mask(tensor, mask0)\n",
    "output1 = tf.ragged.boolean_mask(tensor, mask1)\n",
    "\n",
    "print(output0)\n",
    "print(output1)"
   ]
  },
  {
   "cell_type": "markdown",
   "metadata": {},
   "source": [
    "## RaggedTensor.from_row_lengths()"
   ]
  },
  {
   "cell_type": "code",
   "execution_count": 26,
   "metadata": {},
   "outputs": [
    {
     "name": "stdout",
     "output_type": "stream",
     "text": [
      "tf.Tensor([3 7 7 2 5 4 1 7 5 1 4 0 9 5 8 0], shape=(16,), dtype=int32)\n",
      "<tf.RaggedTensor [[3, 7, 7], [2, 5, 4, 1], [7], [], [5, 1, 4, 0], [9, 5], [], [8], [], [0]]>\n"
     ]
    }
   ],
   "source": [
    "tensor = tf.constant(np.random.randint(0, 10, 16))\n",
    "\n",
    "print(tensor)\n",
    "\n",
    "row_lengths = tf.constant([3, 4, 1, 0, 4, 2, 0, 1, 0, 1])\n",
    "\n",
    "output = tf.RaggedTensor.from_row_lengths(values=tensor, row_lengths=row_lengths)\n",
    "\n",
    "print(output)"
   ]
  },
  {
   "cell_type": "markdown",
   "metadata": {},
   "source": [
    "## RaggedTensor.from_row_limits()"
   ]
  },
  {
   "cell_type": "code",
   "execution_count": 27,
   "metadata": {},
   "outputs": [
    {
     "name": "stdout",
     "output_type": "stream",
     "text": [
      "tf.Tensor([9 2 6 3 8 2 4 2 6 4 8 6 1 3 8 1], shape=(16,), dtype=int32)\n",
      "<tf.RaggedTensor [[9, 2, 6, 3], [], [8, 2, 4], [2, 6], [4, 8, 6, 1], [3], [], [], [8, 1]]>\n"
     ]
    }
   ],
   "source": [
    "tensor = tf.constant(np.random.randint(0, 10, 16))\n",
    "\n",
    "print(tensor)\n",
    "\n",
    "row_limits = tf.constant([4, 4, 7, 9, 13, 14, 14, 14, 16])\n",
    "\n",
    "output = tf.RaggedTensor.from_row_limits(values=tensor, row_limits=row_limits)\n",
    "\n",
    "print(output)"
   ]
  },
  {
   "cell_type": "markdown",
   "metadata": {},
   "source": [
    "## RaggedTensor.from_row_splits()"
   ]
  },
  {
   "cell_type": "code",
   "execution_count": 28,
   "metadata": {},
   "outputs": [
    {
     "name": "stdout",
     "output_type": "stream",
     "text": [
      "tf.Tensor([9 8 9 4 1 3 6 7 2 0 3 1 7 3 1 5], shape=(16,), dtype=int32)\n",
      "<tf.RaggedTensor [[9, 8, 9, 4], [1, 3, 6], [7, 2], [0, 3, 1, 7], [3], [], [], [1, 5]]>\n"
     ]
    }
   ],
   "source": [
    "tensor = tf.constant(np.random.randint(0, 10, 16))\n",
    "\n",
    "print(tensor)\n",
    "\n",
    "row_splits = tf.constant([0, 4, 7, 9, 13, 14, 14, 14, 16])\n",
    "\n",
    "output = tf.RaggedTensor.from_row_splits(values=tensor, row_splits=row_splits)\n",
    "\n",
    "print(output)"
   ]
  }
 ],
 "metadata": {
  "kernelspec": {
   "display_name": "env",
   "language": "python",
   "name": "python3"
  },
  "language_info": {
   "codemirror_mode": {
    "name": "ipython",
    "version": 3
   },
   "file_extension": ".py",
   "mimetype": "text/x-python",
   "name": "python",
   "nbconvert_exporter": "python",
   "pygments_lexer": "ipython3",
   "version": "3.11.4"
  },
  "orig_nbformat": 4
 },
 "nbformat": 4,
 "nbformat_minor": 2
}
