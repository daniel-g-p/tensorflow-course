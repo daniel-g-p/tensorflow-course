{
 "cells": [
  {
   "cell_type": "markdown",
   "metadata": {},
   "source": [
    "# 5. Tensorflow Common Functions\n"
   ]
  },
  {
   "cell_type": "code",
   "execution_count": 2,
   "metadata": {},
   "outputs": [],
   "source": [
    "import numpy as np\n",
    "import tensorflow as tf"
   ]
  },
  {
   "cell_type": "code",
   "execution_count": 3,
   "metadata": {},
   "outputs": [],
   "source": [
    "np.random.seed(42)\n",
    "tf.random.set_seed(42)"
   ]
  },
  {
   "cell_type": "code",
   "execution_count": 4,
   "metadata": {},
   "outputs": [
    {
     "name": "stdout",
     "output_type": "stream",
     "text": [
      "tf.Tensor(\n",
      "[[[4 5 3]\n",
      "  [5 5 2]]\n",
      "\n",
      " [[3 3 3]\n",
      "  [5 4 3]]], shape=(2, 2, 3), dtype=int32)\n",
      "tf.Tensor(\n",
      "[[[5 2]\n",
      "  [4 2]\n",
      "  [4 5]]\n",
      "\n",
      " [[1 4]\n",
      "  [2 5]\n",
      "  [4 1]]], shape=(2, 3, 2), dtype=int32)\n"
     ]
    }
   ],
   "source": [
    "tensor_1 = tf.constant(np.random.randint(1, 6, (2, 2, 3)), dtype=tf.dtypes.int32)\n",
    "tensor_2 = tf.constant(np.random.randint(1, 6, (2, 3, 2)), dtype=tf.dtypes.int32)\n",
    "\n",
    "print(tensor_1)\n",
    "print(tensor_2)"
   ]
  },
  {
   "cell_type": "markdown",
   "metadata": {},
   "source": [
    "## expand_dims()\n"
   ]
  },
  {
   "cell_type": "code",
   "execution_count": 5,
   "metadata": {},
   "outputs": [
    {
     "name": "stdout",
     "output_type": "stream",
     "text": [
      "tf.Tensor(\n",
      "[[[[4 5 3]\n",
      "   [5 5 2]]\n",
      "\n",
      "  [[3 3 3]\n",
      "   [5 4 3]]]], shape=(1, 2, 2, 3), dtype=int32)\n",
      "tf.Tensor(\n",
      "[[[[4 5 3]\n",
      "   [5 5 2]]]\n",
      "\n",
      "\n",
      " [[[3 3 3]\n",
      "   [5 4 3]]]], shape=(2, 1, 2, 3), dtype=int32)\n",
      "tf.Tensor(\n",
      "[[[[4 5 3]]\n",
      "\n",
      "  [[5 5 2]]]\n",
      "\n",
      "\n",
      " [[[3 3 3]]\n",
      "\n",
      "  [[5 4 3]]]], shape=(2, 2, 1, 3), dtype=int32)\n",
      "tf.Tensor(\n",
      "[[[[4]\n",
      "   [5]\n",
      "   [3]]\n",
      "\n",
      "  [[5]\n",
      "   [5]\n",
      "   [2]]]\n",
      "\n",
      "\n",
      " [[[3]\n",
      "   [3]\n",
      "   [3]]\n",
      "\n",
      "  [[5]\n",
      "   [4]\n",
      "   [3]]]], shape=(2, 2, 3, 1), dtype=int32)\n"
     ]
    }
   ],
   "source": [
    "tensor_expand_dims0 = tf.expand_dims(tensor_1, axis=0)\n",
    "tensor_expand_dims1 = tf.expand_dims(tensor_1, axis=1)\n",
    "tensor_expand_dims2 = tf.expand_dims(tensor_1, axis=2)\n",
    "tensor_expand_dims3 = tf.expand_dims(tensor_1, axis=3)\n",
    "\n",
    "print(tensor_expand_dims0)\n",
    "print(tensor_expand_dims1)\n",
    "print(tensor_expand_dims2)\n",
    "print(tensor_expand_dims3)"
   ]
  },
  {
   "cell_type": "markdown",
   "metadata": {},
   "source": [
    "## squeeze()\n"
   ]
  },
  {
   "cell_type": "code",
   "execution_count": 6,
   "metadata": {},
   "outputs": [
    {
     "name": "stdout",
     "output_type": "stream",
     "text": [
      "tf.Tensor(\n",
      "[[[4 5 3]\n",
      "  [5 5 2]]\n",
      "\n",
      " [[3 3 3]\n",
      "  [5 4 3]]], shape=(2, 2, 3), dtype=int32)\n"
     ]
    }
   ],
   "source": [
    "tensor_squeeze_dims1 = tf.squeeze(tensor_expand_dims1)\n",
    "\n",
    "print(tensor_squeeze_dims1)"
   ]
  },
  {
   "cell_type": "markdown",
   "metadata": {},
   "source": [
    "## reshape()\n"
   ]
  },
  {
   "cell_type": "code",
   "execution_count": 7,
   "metadata": {},
   "outputs": [
    {
     "name": "stdout",
     "output_type": "stream",
     "text": [
      "tf.Tensor(\n",
      "[[4 5 3 5 5 2]\n",
      " [3 3 3 5 4 3]], shape=(2, 6), dtype=int32)\n"
     ]
    }
   ],
   "source": [
    "tensor_reshape = tf.reshape(tensor_1, shape=(2, 6))\n",
    "\n",
    "print(tensor_reshape)"
   ]
  },
  {
   "cell_type": "markdown",
   "metadata": {},
   "source": [
    "## concat()\n"
   ]
  },
  {
   "cell_type": "code",
   "execution_count": 8,
   "metadata": {},
   "outputs": [
    {
     "name": "stdout",
     "output_type": "stream",
     "text": [
      "tf.Tensor(\n",
      "[[[4 5 3]\n",
      "  [5 5 2]]\n",
      "\n",
      " [[3 3 3]\n",
      "  [5 4 3]]\n",
      "\n",
      " [[5 4 4]\n",
      "  [2 2 5]]\n",
      "\n",
      " [[1 2 4]\n",
      "  [4 5 1]]], shape=(4, 2, 3), dtype=int32)\n",
      "tf.Tensor(\n",
      "[[[4 5 3]\n",
      "  [5 5 2]\n",
      "  [5 4 4]\n",
      "  [2 2 5]]\n",
      "\n",
      " [[3 3 3]\n",
      "  [5 4 3]\n",
      "  [1 2 4]\n",
      "  [4 5 1]]], shape=(2, 4, 3), dtype=int32)\n",
      "tf.Tensor(\n",
      "[[[4 5 3 5 4 4]\n",
      "  [5 5 2 2 2 5]]\n",
      "\n",
      " [[3 3 3 1 2 4]\n",
      "  [5 4 3 4 5 1]]], shape=(2, 2, 6), dtype=int32)\n"
     ]
    }
   ],
   "source": [
    "tensor_concat0 = tf.concat([tensor_1, tf.transpose(tensor_2, perm=(0, 2, 1))], axis=0)\n",
    "tensor_concat1 = tf.concat([tensor_1, tf.transpose(tensor_2, perm=(0, 2, 1))], axis=1)\n",
    "tensor_concat2 = tf.concat([tensor_1, tf.transpose(tensor_2, perm=(0, 2, 1))], axis=2)\n",
    "\n",
    "print(tensor_concat0)\n",
    "print(tensor_concat1)\n",
    "print(tensor_concat2)"
   ]
  },
  {
   "cell_type": "markdown",
   "metadata": {},
   "source": [
    "## stack()\n"
   ]
  },
  {
   "cell_type": "code",
   "execution_count": 10,
   "metadata": {},
   "outputs": [
    {
     "name": "stdout",
     "output_type": "stream",
     "text": [
      "tf.Tensor(\n",
      "[[[[4 5 3]\n",
      "   [5 5 2]]\n",
      "\n",
      "  [[3 3 3]\n",
      "   [5 4 3]]]\n",
      "\n",
      "\n",
      " [[[5 4 4]\n",
      "   [2 2 5]]\n",
      "\n",
      "  [[1 2 4]\n",
      "   [4 5 1]]]], shape=(2, 2, 2, 3), dtype=int32)\n",
      "tf.Tensor(\n",
      "[[[[4 5 3]\n",
      "   [5 5 2]]\n",
      "\n",
      "  [[5 4 4]\n",
      "   [2 2 5]]]\n",
      "\n",
      "\n",
      " [[[3 3 3]\n",
      "   [5 4 3]]\n",
      "\n",
      "  [[1 2 4]\n",
      "   [4 5 1]]]], shape=(2, 2, 2, 3), dtype=int32)\n",
      "tf.Tensor(\n",
      "[[[[4 5 3]\n",
      "   [5 4 4]]\n",
      "\n",
      "  [[5 5 2]\n",
      "   [2 2 5]]]\n",
      "\n",
      "\n",
      " [[[3 3 3]\n",
      "   [1 2 4]]\n",
      "\n",
      "  [[5 4 3]\n",
      "   [4 5 1]]]], shape=(2, 2, 2, 3), dtype=int32)\n"
     ]
    }
   ],
   "source": [
    "tensor_stack_0 = tf.stack([tensor_1, tf.transpose(tensor_2, perm=(0, 2, 1))], axis=0)\n",
    "tensor_stack_1 = tf.stack([tensor_1, tf.transpose(tensor_2, perm=(0, 2, 1))], axis=1)\n",
    "tensor_stack_2 = tf.stack([tensor_1, tf.transpose(tensor_2, perm=(0, 2, 1))], axis=2)\n",
    "\n",
    "print(tensor_stack_0)\n",
    "print(tensor_stack_1)\n",
    "print(tensor_stack_2)"
   ]
  },
  {
   "cell_type": "markdown",
   "metadata": {},
   "source": [
    "## pad()"
   ]
  },
  {
   "cell_type": "code",
   "execution_count": 33,
   "metadata": {},
   "outputs": [
    {
     "name": "stdout",
     "output_type": "stream",
     "text": [
      "tf.Tensor(\n",
      "[[2 2 2]\n",
      " [3 5 1]], shape=(2, 3), dtype=int32)\n",
      "tf.Tensor(\n",
      "[[4 1 4]\n",
      " [1 5 4]], shape=(2, 3), dtype=int32)\n",
      "tf.Tensor(\n",
      "[[99 99 99 99 99 99 99]\n",
      " [99 99  2  2  2 99 99]\n",
      " [99 99  3  5  1 99 99]\n",
      " [99 99 99 99 99 99 99]], shape=(4, 7), dtype=int32)\n",
      "tf.Tensor(\n",
      "[[1 5 3 5 1 5 3]\n",
      " [2 2 2 2 2 2 2]\n",
      " [1 5 3 5 1 5 3]\n",
      " [2 2 2 2 2 2 2]], shape=(4, 7), dtype=int32)\n",
      "tf.Tensor(\n",
      "[[2 2 2 2 2 2 2]\n",
      " [2 2 2 2 2 2 2]\n",
      " [5 3 3 5 1 1 5]\n",
      " [5 3 3 5 1 1 5]], shape=(4, 7), dtype=int32)\n"
     ]
    }
   ],
   "source": [
    "t1 = tf.constant(np.random.randint(1, 6, (2, 3)), dtype=tf.dtypes.int32)\n",
    "t2 = tf.constant(np.random.randint(1, 6, (2, 3)), dtype=tf.dtypes.int32)\n",
    "\n",
    "print(t1)\n",
    "print(t2)\n",
    "\n",
    "t_pad_constant = tf.pad(t1, [[1, 1], [2, 2]], constant_values=99, mode=\"CONSTANT\")\n",
    "t_pad_reflect = tf.pad(t1, [[1, 1], [2, 2]], mode=\"REFLECT\")\n",
    "t_pad_symmetric = tf.pad(t1, [[1, 1], [2, 2]], mode=\"SYMMETRIC\")\n",
    "\n",
    "print(t_pad_constant)\n",
    "print(t_pad_reflect)\n",
    "print(t_pad_symmetric)"
   ]
  },
  {
   "cell_type": "markdown",
   "metadata": {},
   "source": [
    "## gather()"
   ]
  },
  {
   "cell_type": "code",
   "execution_count": 38,
   "metadata": {},
   "outputs": [
    {
     "name": "stdout",
     "output_type": "stream",
     "text": [
      "tf.Tensor(\n",
      "[[3 1 2 5 2]\n",
      " [2 1 4 2 3]\n",
      " [4 5 1 5 4]\n",
      " [4 4 5 4 5]\n",
      " [4 3 4 5 2]], shape=(5, 5), dtype=int32)\n",
      "tf.Tensor(\n",
      "[[4 5 1 5 4]\n",
      " [4 3 4 5 2]], shape=(2, 5), dtype=int32)\n",
      "tf.Tensor(\n",
      "[[2 2]\n",
      " [4 3]\n",
      " [1 4]\n",
      " [5 5]\n",
      " [4 2]], shape=(5, 2), dtype=int32)\n"
     ]
    }
   ],
   "source": [
    "t1 = tf.constant(np.random.randint(1, 6, (5, 5)), dtype=tf.dtypes.int32)\n",
    "\n",
    "print(t1)\n",
    "\n",
    "t_gather_0d = tf.gather(t1, [2, 4], axis=0)\n",
    "t_gather_1d = tf.gather(t1, [2, 4], axis=1)\n",
    "\n",
    "print(t_gather_0d)\n",
    "print(t_gather_1d)"
   ]
  },
  {
   "cell_type": "markdown",
   "metadata": {},
   "source": [
    "## gather_nd()"
   ]
  },
  {
   "cell_type": "code",
   "execution_count": 49,
   "metadata": {},
   "outputs": [
    {
     "name": "stdout",
     "output_type": "stream",
     "text": [
      "tf.Tensor(\n",
      "[[[1 5 3 1]\n",
      "  [3 4 2 4]\n",
      "  [4 5 2 4]]\n",
      "\n",
      " [[4 2 2 4]\n",
      "  [2 4 4 5]\n",
      "  [1 4 3 1]]], shape=(2, 3, 4), dtype=int32)\n",
      "tf.Tensor(\n",
      "[[3 4 2 4]\n",
      " [1 4 3 1]], shape=(2, 4), dtype=int32)\n",
      "tf.Tensor([5 4], shape=(2,), dtype=int32)\n"
     ]
    }
   ],
   "source": [
    "t = tf.constant(np.random.randint(1, 6, (2, 3, 4)), dtype=tf.dtypes.int32)\n",
    "\n",
    "print(t)\n",
    "\n",
    "t_gather_nd_batch0 = tf.gather_nd(t, [[0, 1], [1, 2]], batch_dims=0)\n",
    "t_gather_nd_batch1 = tf.gather_nd(t, [[0, 1], [1, 2]], batch_dims=1)\n",
    "\n",
    "print(t_gather_nd_batch0)\n",
    "print(t_gather_nd_batch1)"
   ]
  }
 ],
 "metadata": {
  "kernelspec": {
   "display_name": "env",
   "language": "python",
   "name": "python3"
  },
  "language_info": {
   "codemirror_mode": {
    "name": "ipython",
    "version": 3
   },
   "file_extension": ".py",
   "mimetype": "text/x-python",
   "name": "python",
   "nbconvert_exporter": "python",
   "pygments_lexer": "ipython3",
   "version": "3.11.4"
  },
  "orig_nbformat": 4
 },
 "nbformat": 4,
 "nbformat_minor": 2
}
