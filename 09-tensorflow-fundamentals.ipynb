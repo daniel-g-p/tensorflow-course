{
 "cells": [
  {
   "cell_type": "markdown",
   "metadata": {},
   "source": [
    "# Tensorflow Fundamentals"
   ]
  },
  {
   "cell_type": "code",
   "execution_count": 74,
   "metadata": {},
   "outputs": [],
   "source": [
    "import numpy as np\n",
    "\n",
    "import tensorflow as tf"
   ]
  },
  {
   "cell_type": "markdown",
   "metadata": {},
   "source": [
    "## tf.constant()"
   ]
  },
  {
   "cell_type": "code",
   "execution_count": 75,
   "metadata": {},
   "outputs": [
    {
     "data": {
      "text/plain": [
       "<tf.Tensor: shape=(), dtype=int32, numpy=0>"
      ]
     },
     "execution_count": 75,
     "metadata": {},
     "output_type": "execute_result"
    }
   ],
   "source": [
    "tensor_0d = tf.constant(np.random.randint(0, 10))\n",
    "tensor_0d"
   ]
  },
  {
   "cell_type": "code",
   "execution_count": 76,
   "metadata": {},
   "outputs": [
    {
     "data": {
      "text/plain": [
       "<tf.Tensor: shape=(5,), dtype=int32, numpy=array([4, 6, 2, 5, 1])>"
      ]
     },
     "execution_count": 76,
     "metadata": {},
     "output_type": "execute_result"
    }
   ],
   "source": [
    "tensor_1d = tf.constant(np.random.randint(0, 10, (5)))\n",
    "tensor_1d"
   ]
  },
  {
   "cell_type": "code",
   "execution_count": 77,
   "metadata": {},
   "outputs": [
    {
     "data": {
      "text/plain": [
       "<tf.Tensor: shape=(4, 5), dtype=int32, numpy=\n",
       "array([[0, 9, 0, 1, 7],\n",
       "       [7, 0, 1, 0, 9],\n",
       "       [5, 1, 2, 6, 7],\n",
       "       [9, 9, 4, 6, 9]])>"
      ]
     },
     "execution_count": 77,
     "metadata": {},
     "output_type": "execute_result"
    }
   ],
   "source": [
    "tensor_2d = tf.constant(np.random.randint(0, 10, (4, 5)))\n",
    "tensor_2d"
   ]
  },
  {
   "cell_type": "code",
   "execution_count": 78,
   "metadata": {},
   "outputs": [
    {
     "data": {
      "text/plain": [
       "<tf.Tensor: shape=(3, 4, 5), dtype=int32, numpy=\n",
       "array([[[1, 4, 7, 3, 2],\n",
       "        [3, 3, 4, 6, 4],\n",
       "        [5, 5, 3, 3, 1],\n",
       "        [4, 6, 3, 3, 9]],\n",
       "\n",
       "       [[2, 0, 1, 9, 3],\n",
       "        [9, 0, 4, 8, 8],\n",
       "        [1, 0, 4, 4, 5],\n",
       "        [1, 2, 4, 4, 2]],\n",
       "\n",
       "       [[2, 5, 0, 1, 9],\n",
       "        [9, 1, 4, 2, 3],\n",
       "        [7, 9, 5, 5, 8],\n",
       "        [4, 1, 9, 2, 0]]])>"
      ]
     },
     "execution_count": 78,
     "metadata": {},
     "output_type": "execute_result"
    }
   ],
   "source": [
    "tensor_3d = tf.constant(np.random.randint(0, 10, (3, 4, 5)))\n",
    "tensor_3d"
   ]
  },
  {
   "cell_type": "code",
   "execution_count": 79,
   "metadata": {},
   "outputs": [
    {
     "data": {
      "text/plain": [
       "<tf.Tensor: shape=(2, 3, 4, 5), dtype=int32, numpy=\n",
       "array([[[[5, 5, 4, 3, 0],\n",
       "         [0, 1, 0, 9, 3],\n",
       "         [3, 8, 0, 5, 8],\n",
       "         [3, 8, 9, 5, 9]],\n",
       "\n",
       "        [[5, 5, 1, 2, 7],\n",
       "         [3, 3, 7, 7, 5],\n",
       "         [5, 2, 3, 4, 9],\n",
       "         [8, 5, 2, 5, 6]],\n",
       "\n",
       "        [[1, 8, 8, 0, 8],\n",
       "         [3, 3, 8, 4, 5],\n",
       "         [3, 3, 5, 4, 6],\n",
       "         [9, 9, 9, 4, 3]]],\n",
       "\n",
       "\n",
       "       [[[2, 0, 3, 1, 7],\n",
       "         [5, 4, 3, 4, 9],\n",
       "         [2, 9, 3, 6, 9],\n",
       "         [7, 4, 3, 7, 7]],\n",
       "\n",
       "        [[4, 6, 5, 8, 1],\n",
       "         [6, 1, 0, 8, 1],\n",
       "         [2, 2, 2, 6, 7],\n",
       "         [7, 4, 7, 9, 0]],\n",
       "\n",
       "        [[1, 6, 7, 3, 1],\n",
       "         [6, 6, 8, 1, 8],\n",
       "         [4, 5, 6, 8, 4],\n",
       "         [4, 6, 6, 0, 7]]]])>"
      ]
     },
     "execution_count": 79,
     "metadata": {},
     "output_type": "execute_result"
    }
   ],
   "source": [
    "tensor_4d = tf.constant(np.random.randint(0, 10, (2, 3, 4, 5)))\n",
    "tensor_4d"
   ]
  },
  {
   "cell_type": "markdown",
   "metadata": {},
   "source": [
    "## tf.cast()"
   ]
  },
  {
   "cell_type": "code",
   "execution_count": 80,
   "metadata": {},
   "outputs": [
    {
     "data": {
      "text/plain": [
       "<tf.Tensor: shape=(), dtype=bool, numpy=False>"
      ]
     },
     "execution_count": 80,
     "metadata": {},
     "output_type": "execute_result"
    }
   ],
   "source": [
    "cast_tensor_0d = tf.cast(tensor_0d, tf.bool)\n",
    "cast_tensor_0d"
   ]
  }
 ],
 "metadata": {
  "kernelspec": {
   "display_name": "env",
   "language": "python",
   "name": "python3"
  },
  "language_info": {
   "codemirror_mode": {
    "name": "ipython",
    "version": 3
   },
   "file_extension": ".py",
   "mimetype": "text/x-python",
   "name": "python",
   "nbconvert_exporter": "python",
   "pygments_lexer": "ipython3",
   "version": "3.11.3"
  },
  "orig_nbformat": 4
 },
 "nbformat": 4,
 "nbformat_minor": 2
}
