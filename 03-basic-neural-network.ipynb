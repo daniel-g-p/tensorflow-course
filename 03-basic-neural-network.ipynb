{
 "cells": [
  {
   "cell_type": "code",
   "execution_count": 41,
   "metadata": {},
   "outputs": [],
   "source": [
    "import numpy as np\n",
    "\n",
    "import matplotlib.pyplot as plt\n",
    "\n",
    "import tensorflow as tf\n",
    "from tensorflow import keras"
   ]
  },
  {
   "cell_type": "code",
   "execution_count": 42,
   "metadata": {},
   "outputs": [
    {
     "name": "stdout",
     "output_type": "stream",
     "text": [
      "(60000, 28, 28)\n",
      "(60000,)\n",
      "(10000, 28, 28)\n",
      "(10000,)\n"
     ]
    }
   ],
   "source": [
    "dataset = keras.datasets.mnist.load_data()\n",
    "\n",
    "(X_train, y_train), (X_test, y_test) = dataset\n",
    "\n",
    "print(X_train.shape)\n",
    "print(y_train.shape)\n",
    "\n",
    "print(X_test.shape)\n",
    "print(y_test.shape)"
   ]
  },
  {
   "cell_type": "code",
   "execution_count": 43,
   "metadata": {},
   "outputs": [],
   "source": [
    "X_train = X_train / 255\n",
    "X_test = X_test / 255"
   ]
  },
  {
   "cell_type": "code",
   "execution_count": 44,
   "metadata": {},
   "outputs": [],
   "source": [
    "model = tf.keras.models.Sequential(\n",
    "    [\n",
    "        tf.keras.layers.Flatten(input_shape=(28, 28)),\n",
    "        tf.keras.layers.Dense(128, activation=\"relu\"),\n",
    "        tf.keras.layers.Dropout(0.2),\n",
    "        tf.keras.layers.Dense(10),\n",
    "    ]\n",
    ")"
   ]
  },
  {
   "cell_type": "code",
   "execution_count": 45,
   "metadata": {},
   "outputs": [
    {
     "data": {
      "text/plain": [
       "array([[-0.43149114,  0.39727417, -0.08477864, ..., -0.14776044,\n",
       "         0.5238071 , -0.41268855],\n",
       "       [-0.09725019,  0.24926169, -0.29434872, ..., -0.10495704,\n",
       "         0.18613899, -0.17887552],\n",
       "       [-0.548569  ,  0.2890907 , -0.25735453, ...,  0.03756192,\n",
       "         0.05306446, -0.27506962],\n",
       "       ...,\n",
       "       [-0.62543106, -0.10873449,  0.11757538, ...,  0.01319492,\n",
       "         0.6834545 , -0.34067968],\n",
       "       [-0.3722728 ,  0.5021643 , -0.42146027, ...,  0.03698421,\n",
       "         0.0076839 , -0.20793526],\n",
       "       [-0.47948778, -0.09018129,  0.18988569, ..., -0.13637543,\n",
       "         0.1910326 , -0.18292065]], dtype=float32)"
      ]
     },
     "execution_count": 45,
     "metadata": {},
     "output_type": "execute_result"
    }
   ],
   "source": [
    "y_predict = model(X_train).numpy()\n",
    "y_predict"
   ]
  },
  {
   "cell_type": "code",
   "execution_count": 46,
   "metadata": {},
   "outputs": [
    {
     "data": {
      "text/plain": [
       "array([[0.05968679, 0.13671194, 0.0844216 , ..., 0.07926854, 0.15515257,\n",
       "        0.06081967],\n",
       "       [0.09060647, 0.12812898, 0.07439785, ..., 0.08991086, 0.12029111,\n",
       "        0.08350447],\n",
       "       [0.05639485, 0.13032581, 0.07545921, ..., 0.10134278, 0.1029261 ,\n",
       "        0.07413422],\n",
       "       ...,\n",
       "       [0.04450382, 0.07460977, 0.09355798, ..., 0.08428475, 0.16475517,\n",
       "        0.05916477],\n",
       "       [0.06629802, 0.15895118, 0.06311589, ..., 0.09982483, 0.09694237,\n",
       "        0.07813964],\n",
       "       [0.05698007, 0.08410013, 0.11128283, ..., 0.08030356, 0.11141054,\n",
       "        0.07665147]], dtype=float32)"
      ]
     },
     "execution_count": 46,
     "metadata": {},
     "output_type": "execute_result"
    }
   ],
   "source": [
    "y_predict_probabilities = tf.nn.softmax(y_predict).numpy()\n",
    "y_predict_probabilities"
   ]
  },
  {
   "cell_type": "code",
   "execution_count": 47,
   "metadata": {},
   "outputs": [],
   "source": [
    "loss_function = tf.keras.losses.SparseCategoricalCrossentropy(from_logits=True)"
   ]
  },
  {
   "cell_type": "code",
   "execution_count": 48,
   "metadata": {},
   "outputs": [
    {
     "data": {
      "text/plain": [
       "2.4333735"
      ]
     },
     "execution_count": 48,
     "metadata": {},
     "output_type": "execute_result"
    }
   ],
   "source": [
    "loss = loss_function(y_train, y_predict).numpy()\n",
    "loss"
   ]
  },
  {
   "cell_type": "code",
   "execution_count": 49,
   "metadata": {},
   "outputs": [],
   "source": [
    "model.compile(optimizer=\"adam\", loss=loss_function, metrics=[\"accuracy\"])"
   ]
  },
  {
   "cell_type": "code",
   "execution_count": 50,
   "metadata": {},
   "outputs": [
    {
     "name": "stdout",
     "output_type": "stream",
     "text": [
      "Epoch 1/4\n",
      "1875/1875 [==============================] - 3s 1ms/step - loss: 0.2971 - accuracy: 0.9142\n",
      "Epoch 2/4\n",
      "1875/1875 [==============================] - 2s 1ms/step - loss: 0.1384 - accuracy: 0.9585\n",
      "Epoch 3/4\n",
      "1875/1875 [==============================] - 2s 1ms/step - loss: 0.1041 - accuracy: 0.9683\n",
      "Epoch 4/4\n",
      "1875/1875 [==============================] - 2s 1ms/step - loss: 0.0874 - accuracy: 0.9732\n"
     ]
    },
    {
     "data": {
      "text/plain": [
       "<keras.src.callbacks.History at 0x17fdab25d10>"
      ]
     },
     "execution_count": 50,
     "metadata": {},
     "output_type": "execute_result"
    }
   ],
   "source": [
    "model.fit(X_train, y_train, epochs=4)"
   ]
  },
  {
   "cell_type": "code",
   "execution_count": 51,
   "metadata": {},
   "outputs": [
    {
     "name": "stdout",
     "output_type": "stream",
     "text": [
      "313/313 - 0s - loss: 0.0770 - accuracy: 0.9768 - 419ms/epoch - 1ms/step\n"
     ]
    },
    {
     "data": {
      "text/plain": [
       "(0.07700028270483017, 0.9768000245094299)"
      ]
     },
     "execution_count": 51,
     "metadata": {},
     "output_type": "execute_result"
    }
   ],
   "source": [
    "test_loss, test_accuracy = model.evaluate(X_test, y_test, verbose=2)\n",
    "test_loss, test_accuracy"
   ]
  }
 ],
 "metadata": {
  "kernelspec": {
   "display_name": "env",
   "language": "python",
   "name": "python3"
  },
  "language_info": {
   "codemirror_mode": {
    "name": "ipython",
    "version": 3
   },
   "file_extension": ".py",
   "mimetype": "text/x-python",
   "name": "python",
   "nbconvert_exporter": "python",
   "pygments_lexer": "ipython3",
   "version": "3.11.3"
  },
  "orig_nbformat": 4
 },
 "nbformat": 4,
 "nbformat_minor": 2
}
