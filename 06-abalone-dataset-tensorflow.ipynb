{
 "cells": [
  {
   "cell_type": "code",
   "execution_count": 298,
   "metadata": {},
   "outputs": [],
   "source": [
    "import numpy as np\n",
    "\n",
    "import matplotlib.pyplot as plt\n",
    "\n",
    "import pandas as pd\n",
    "\n",
    "from sklearn.model_selection import train_test_split\n",
    "\n",
    "import tensorflow as tf"
   ]
  },
  {
   "cell_type": "code",
   "execution_count": 299,
   "metadata": {},
   "outputs": [
    {
     "data": {
      "text/html": [
       "<div>\n",
       "<style scoped>\n",
       "    .dataframe tbody tr th:only-of-type {\n",
       "        vertical-align: middle;\n",
       "    }\n",
       "\n",
       "    .dataframe tbody tr th {\n",
       "        vertical-align: top;\n",
       "    }\n",
       "\n",
       "    .dataframe thead th {\n",
       "        text-align: right;\n",
       "    }\n",
       "</style>\n",
       "<table border=\"1\" class=\"dataframe\">\n",
       "  <thead>\n",
       "    <tr style=\"text-align: right;\">\n",
       "      <th></th>\n",
       "      <th>length</th>\n",
       "      <th>diameter</th>\n",
       "      <th>height</th>\n",
       "      <th>whole_weight</th>\n",
       "      <th>shucked_weight</th>\n",
       "      <th>viscera_weight</th>\n",
       "      <th>shell_weight</th>\n",
       "      <th>age</th>\n",
       "    </tr>\n",
       "  </thead>\n",
       "  <tbody>\n",
       "    <tr>\n",
       "      <th>1233</th>\n",
       "      <td>0.625</td>\n",
       "      <td>0.520</td>\n",
       "      <td>0.175</td>\n",
       "      <td>1.4105</td>\n",
       "      <td>0.6910</td>\n",
       "      <td>0.3220</td>\n",
       "      <td>0.3465</td>\n",
       "      <td>10</td>\n",
       "    </tr>\n",
       "    <tr>\n",
       "      <th>842</th>\n",
       "      <td>0.465</td>\n",
       "      <td>0.345</td>\n",
       "      <td>0.105</td>\n",
       "      <td>0.4015</td>\n",
       "      <td>0.2420</td>\n",
       "      <td>0.0345</td>\n",
       "      <td>0.1090</td>\n",
       "      <td>6</td>\n",
       "    </tr>\n",
       "    <tr>\n",
       "      <th>1620</th>\n",
       "      <td>0.510</td>\n",
       "      <td>0.415</td>\n",
       "      <td>0.140</td>\n",
       "      <td>0.8185</td>\n",
       "      <td>0.3025</td>\n",
       "      <td>0.2155</td>\n",
       "      <td>0.2350</td>\n",
       "      <td>16</td>\n",
       "    </tr>\n",
       "    <tr>\n",
       "      <th>1884</th>\n",
       "      <td>0.625</td>\n",
       "      <td>0.515</td>\n",
       "      <td>0.180</td>\n",
       "      <td>1.3485</td>\n",
       "      <td>0.5255</td>\n",
       "      <td>0.2520</td>\n",
       "      <td>0.3925</td>\n",
       "      <td>14</td>\n",
       "    </tr>\n",
       "    <tr>\n",
       "      <th>2558</th>\n",
       "      <td>0.640</td>\n",
       "      <td>0.485</td>\n",
       "      <td>0.145</td>\n",
       "      <td>1.1335</td>\n",
       "      <td>0.5525</td>\n",
       "      <td>0.2505</td>\n",
       "      <td>0.3015</td>\n",
       "      <td>11</td>\n",
       "    </tr>\n",
       "    <tr>\n",
       "      <th>1409</th>\n",
       "      <td>0.585</td>\n",
       "      <td>0.435</td>\n",
       "      <td>0.140</td>\n",
       "      <td>0.6955</td>\n",
       "      <td>0.3085</td>\n",
       "      <td>0.1290</td>\n",
       "      <td>0.2245</td>\n",
       "      <td>8</td>\n",
       "    </tr>\n",
       "    <tr>\n",
       "      <th>899</th>\n",
       "      <td>0.640</td>\n",
       "      <td>0.525</td>\n",
       "      <td>0.215</td>\n",
       "      <td>1.7790</td>\n",
       "      <td>0.4535</td>\n",
       "      <td>0.2855</td>\n",
       "      <td>0.5500</td>\n",
       "      <td>22</td>\n",
       "    </tr>\n",
       "    <tr>\n",
       "      <th>3275</th>\n",
       "      <td>0.485</td>\n",
       "      <td>0.395</td>\n",
       "      <td>0.140</td>\n",
       "      <td>0.6295</td>\n",
       "      <td>0.2285</td>\n",
       "      <td>0.1270</td>\n",
       "      <td>0.2250</td>\n",
       "      <td>14</td>\n",
       "    </tr>\n",
       "    <tr>\n",
       "      <th>2961</th>\n",
       "      <td>0.520</td>\n",
       "      <td>0.410</td>\n",
       "      <td>0.120</td>\n",
       "      <td>0.5950</td>\n",
       "      <td>0.2385</td>\n",
       "      <td>0.1110</td>\n",
       "      <td>0.1900</td>\n",
       "      <td>8</td>\n",
       "    </tr>\n",
       "    <tr>\n",
       "      <th>2883</th>\n",
       "      <td>0.590</td>\n",
       "      <td>0.460</td>\n",
       "      <td>0.140</td>\n",
       "      <td>1.0040</td>\n",
       "      <td>0.4960</td>\n",
       "      <td>0.2165</td>\n",
       "      <td>0.2600</td>\n",
       "      <td>9</td>\n",
       "    </tr>\n",
       "  </tbody>\n",
       "</table>\n",
       "</div>"
      ],
      "text/plain": [
       "      length  diameter  height  whole_weight  shucked_weight  viscera_weight  \\\n",
       "1233   0.625     0.520   0.175        1.4105          0.6910          0.3220   \n",
       "842    0.465     0.345   0.105        0.4015          0.2420          0.0345   \n",
       "1620   0.510     0.415   0.140        0.8185          0.3025          0.2155   \n",
       "1884   0.625     0.515   0.180        1.3485          0.5255          0.2520   \n",
       "2558   0.640     0.485   0.145        1.1335          0.5525          0.2505   \n",
       "1409   0.585     0.435   0.140        0.6955          0.3085          0.1290   \n",
       "899    0.640     0.525   0.215        1.7790          0.4535          0.2855   \n",
       "3275   0.485     0.395   0.140        0.6295          0.2285          0.1270   \n",
       "2961   0.520     0.410   0.120        0.5950          0.2385          0.1110   \n",
       "2883   0.590     0.460   0.140        1.0040          0.4960          0.2165   \n",
       "\n",
       "      shell_weight  age  \n",
       "1233        0.3465   10  \n",
       "842         0.1090    6  \n",
       "1620        0.2350   16  \n",
       "1884        0.3925   14  \n",
       "2558        0.3015   11  \n",
       "1409        0.2245    8  \n",
       "899         0.5500   22  \n",
       "3275        0.2250   14  \n",
       "2961        0.1900    8  \n",
       "2883        0.2600    9  "
      ]
     },
     "execution_count": 299,
     "metadata": {},
     "output_type": "execute_result"
    }
   ],
   "source": [
    "df_original = pd.read_csv(\n",
    "    \"./data/abalone_train.csv\",\n",
    "    names=[\n",
    "        \"length\",\n",
    "        \"diameter\",\n",
    "        \"height\",\n",
    "        \"whole_weight\",\n",
    "        \"shucked_weight\",\n",
    "        \"viscera_weight\",\n",
    "        \"shell_weight\",\n",
    "        \"age\",\n",
    "    ],\n",
    ")\n",
    "\n",
    "df = df_original.copy()\n",
    "\n",
    "df.sample(n=10)"
   ]
  },
  {
   "cell_type": "code",
   "execution_count": 300,
   "metadata": {},
   "outputs": [
    {
     "name": "stdout",
     "output_type": "stream",
     "text": [
      "<class 'pandas.core.frame.DataFrame'>\n",
      "RangeIndex: 3320 entries, 0 to 3319\n",
      "Data columns (total 8 columns):\n",
      " #   Column          Non-Null Count  Dtype  \n",
      "---  ------          --------------  -----  \n",
      " 0   length          3320 non-null   float64\n",
      " 1   diameter        3320 non-null   float64\n",
      " 2   height          3320 non-null   float64\n",
      " 3   whole_weight    3320 non-null   float64\n",
      " 4   shucked_weight  3320 non-null   float64\n",
      " 5   viscera_weight  3320 non-null   float64\n",
      " 6   shell_weight    3320 non-null   float64\n",
      " 7   age             3320 non-null   int64  \n",
      "dtypes: float64(7), int64(1)\n",
      "memory usage: 207.6 KB\n"
     ]
    }
   ],
   "source": [
    "df.info()"
   ]
  },
  {
   "cell_type": "code",
   "execution_count": 301,
   "metadata": {},
   "outputs": [
    {
     "data": {
      "text/html": [
       "<div>\n",
       "<style scoped>\n",
       "    .dataframe tbody tr th:only-of-type {\n",
       "        vertical-align: middle;\n",
       "    }\n",
       "\n",
       "    .dataframe tbody tr th {\n",
       "        vertical-align: top;\n",
       "    }\n",
       "\n",
       "    .dataframe thead th {\n",
       "        text-align: right;\n",
       "    }\n",
       "</style>\n",
       "<table border=\"1\" class=\"dataframe\">\n",
       "  <thead>\n",
       "    <tr style=\"text-align: right;\">\n",
       "      <th></th>\n",
       "      <th>length</th>\n",
       "      <th>diameter</th>\n",
       "      <th>height</th>\n",
       "      <th>whole_weight</th>\n",
       "      <th>shucked_weight</th>\n",
       "      <th>viscera_weight</th>\n",
       "      <th>shell_weight</th>\n",
       "      <th>age</th>\n",
       "    </tr>\n",
       "  </thead>\n",
       "  <tbody>\n",
       "    <tr>\n",
       "      <th>count</th>\n",
       "      <td>3320.000</td>\n",
       "      <td>3320.000</td>\n",
       "      <td>3320.000</td>\n",
       "      <td>3320.000</td>\n",
       "      <td>3320.000</td>\n",
       "      <td>3320.000</td>\n",
       "      <td>3320.000</td>\n",
       "      <td>3320.000</td>\n",
       "    </tr>\n",
       "    <tr>\n",
       "      <th>mean</th>\n",
       "      <td>0.523</td>\n",
       "      <td>0.407</td>\n",
       "      <td>0.139</td>\n",
       "      <td>0.825</td>\n",
       "      <td>0.358</td>\n",
       "      <td>0.180</td>\n",
       "      <td>0.238</td>\n",
       "      <td>9.897</td>\n",
       "    </tr>\n",
       "    <tr>\n",
       "      <th>std</th>\n",
       "      <td>0.121</td>\n",
       "      <td>0.100</td>\n",
       "      <td>0.043</td>\n",
       "      <td>0.491</td>\n",
       "      <td>0.222</td>\n",
       "      <td>0.110</td>\n",
       "      <td>0.140</td>\n",
       "      <td>3.206</td>\n",
       "    </tr>\n",
       "    <tr>\n",
       "      <th>min</th>\n",
       "      <td>0.075</td>\n",
       "      <td>0.055</td>\n",
       "      <td>0.000</td>\n",
       "      <td>0.002</td>\n",
       "      <td>0.001</td>\n",
       "      <td>0.000</td>\n",
       "      <td>0.002</td>\n",
       "      <td>1.000</td>\n",
       "    </tr>\n",
       "    <tr>\n",
       "      <th>25%</th>\n",
       "      <td>0.450</td>\n",
       "      <td>0.345</td>\n",
       "      <td>0.115</td>\n",
       "      <td>0.436</td>\n",
       "      <td>0.182</td>\n",
       "      <td>0.092</td>\n",
       "      <td>0.127</td>\n",
       "      <td>8.000</td>\n",
       "    </tr>\n",
       "    <tr>\n",
       "      <th>50%</th>\n",
       "      <td>0.540</td>\n",
       "      <td>0.425</td>\n",
       "      <td>0.140</td>\n",
       "      <td>0.795</td>\n",
       "      <td>0.336</td>\n",
       "      <td>0.171</td>\n",
       "      <td>0.230</td>\n",
       "      <td>9.000</td>\n",
       "    </tr>\n",
       "    <tr>\n",
       "      <th>75%</th>\n",
       "      <td>0.615</td>\n",
       "      <td>0.480</td>\n",
       "      <td>0.165</td>\n",
       "      <td>1.150</td>\n",
       "      <td>0.504</td>\n",
       "      <td>0.253</td>\n",
       "      <td>0.325</td>\n",
       "      <td>11.000</td>\n",
       "    </tr>\n",
       "    <tr>\n",
       "      <th>max</th>\n",
       "      <td>0.815</td>\n",
       "      <td>0.650</td>\n",
       "      <td>1.130</td>\n",
       "      <td>2.826</td>\n",
       "      <td>1.488</td>\n",
       "      <td>0.760</td>\n",
       "      <td>1.005</td>\n",
       "      <td>27.000</td>\n",
       "    </tr>\n",
       "  </tbody>\n",
       "</table>\n",
       "</div>"
      ],
      "text/plain": [
       "         length  diameter    height  whole_weight  shucked_weight  \\\n",
       "count  3320.000  3320.000  3320.000      3320.000        3320.000   \n",
       "mean      0.523     0.407     0.139         0.825           0.358   \n",
       "std       0.121     0.100     0.043         0.491           0.222   \n",
       "min       0.075     0.055     0.000         0.002           0.001   \n",
       "25%       0.450     0.345     0.115         0.436           0.182   \n",
       "50%       0.540     0.425     0.140         0.795           0.336   \n",
       "75%       0.615     0.480     0.165         1.150           0.504   \n",
       "max       0.815     0.650     1.130         2.826           1.488   \n",
       "\n",
       "       viscera_weight  shell_weight       age  \n",
       "count        3320.000      3320.000  3320.000  \n",
       "mean            0.180         0.238     9.897  \n",
       "std             0.110         0.140     3.206  \n",
       "min             0.000         0.002     1.000  \n",
       "25%             0.092         0.127     8.000  \n",
       "50%             0.171         0.230     9.000  \n",
       "75%             0.253         0.325    11.000  \n",
       "max             0.760         1.005    27.000  "
      ]
     },
     "execution_count": 301,
     "metadata": {},
     "output_type": "execute_result"
    }
   ],
   "source": [
    "df.describe().round(3)"
   ]
  },
  {
   "cell_type": "code",
   "execution_count": 302,
   "metadata": {},
   "outputs": [
    {
     "data": {
      "image/png": "[encoded data removed]",
      "text/plain": [
       "<Figure size 640x480 with 9 Axes>"
      ]
     },
     "metadata": {},
     "output_type": "display_data"
    }
   ],
   "source": [
    "df.hist()\n",
    "plt.show()"
   ]
  },
  {
   "cell_type": "code",
   "execution_count": 303,
   "metadata": {},
   "outputs": [
    {
     "name": "stdout",
     "output_type": "stream",
     "text": [
      "Unique values in \"length\": 132\n",
      "Unique values in \"diameter\": 110\n",
      "Unique values in \"height\": 51\n",
      "Unique values in \"whole_weight\": 2145\n",
      "Unique values in \"shucked_weight\": 1409\n",
      "Unique values in \"viscera_weight\": 845\n",
      "Unique values in \"shell_weight\": 855\n",
      "Unique values in \"age\": 26\n"
     ]
    }
   ],
   "source": [
    "for label, content in df.items():\n",
    "    print(f'Unique values in \"{label}\": {len(content.unique())}')"
   ]
  },
  {
   "cell_type": "code",
   "execution_count": 304,
   "metadata": {},
   "outputs": [],
   "source": [
    "X = np.array(df.drop(\"age\", axis=1))\n",
    "y = np.array(df[\"age\"])"
   ]
  },
  {
   "cell_type": "code",
   "execution_count": 305,
   "metadata": {},
   "outputs": [
    {
     "data": {
      "text/plain": [
       "array([[0.64  , 0.505 , 0.175 , ..., 0.6185, 0.302 , 0.3315],\n",
       "       [0.485 , 0.36  , 0.12  , ..., 0.2465, 0.1025, 0.147 ],\n",
       "       [0.61  , 0.5   , 0.18  , ..., 0.5185, 0.3735, 0.3345],\n",
       "       ...,\n",
       "       [0.535 , 0.43  , 0.14  , ..., 0.2855, 0.1595, 0.2155],\n",
       "       [0.585 , 0.46  , 0.165 , ..., 0.486 , 0.25  , 0.294 ],\n",
       "       [0.54  , 0.415 , 0.11  , ..., 0.2755, 0.15  , 0.1765]])"
      ]
     },
     "execution_count": 305,
     "metadata": {},
     "output_type": "execute_result"
    }
   ],
   "source": [
    "X_train, X_test, y_train, y_test = train_test_split(X, y)\n",
    "\n",
    "X_train"
   ]
  },
  {
   "cell_type": "code",
   "execution_count": 306,
   "metadata": {},
   "outputs": [
    {
     "name": "stdout",
     "output_type": "stream",
     "text": [
      "--------------------------------------------------\n",
      "Input Shape: (2490, 7)\n",
      "--------------------------------------------------\n"
     ]
    }
   ],
   "source": [
    "print(\"--------------------------------------------------\")\n",
    "print(f\"Input Shape: {X_train.shape}\")\n",
    "print(\"--------------------------------------------------\")"
   ]
  },
  {
   "cell_type": "code",
   "execution_count": 307,
   "metadata": {},
   "outputs": [],
   "source": [
    "normalization_layer = tf.keras.layers.Normalization()\n",
    "\n",
    "normalization_layer.adapt(X_train)"
   ]
  },
  {
   "cell_type": "code",
   "execution_count": 308,
   "metadata": {},
   "outputs": [],
   "source": [
    "model = tf.keras.Sequential(\n",
    "    [\n",
    "        normalization_layer,\n",
    "        tf.keras.layers.Input(7),\n",
    "        tf.keras.layers.Dense(64),\n",
    "        tf.keras.layers.Dense(1),\n",
    "    ]\n",
    ")"
   ]
  },
  {
   "cell_type": "code",
   "execution_count": 309,
   "metadata": {},
   "outputs": [],
   "source": [
    "loss_function = tf.keras.losses.MeanSquaredError()"
   ]
  },
  {
   "cell_type": "code",
   "execution_count": 310,
   "metadata": {},
   "outputs": [],
   "source": [
    "optimizer_function = tf.keras.optimizers.Adam()"
   ]
  },
  {
   "cell_type": "code",
   "execution_count": 311,
   "metadata": {},
   "outputs": [],
   "source": [
    "model.compile(loss=loss_function, optimizer=optimizer_function)"
   ]
  },
  {
   "cell_type": "code",
   "execution_count": 312,
   "metadata": {},
   "outputs": [
    {
     "name": "stdout",
     "output_type": "stream",
     "text": [
      "Epoch 1/8\n",
      "78/78 [==============================] - 1s 1ms/step - loss: 98.3759\n",
      "Epoch 2/8\n",
      "78/78 [==============================] - 0s 1ms/step - loss: 73.1491\n",
      "Epoch 3/8\n",
      "78/78 [==============================] - 0s 1ms/step - loss: 38.5106\n",
      "Epoch 4/8\n",
      "78/78 [==============================] - 0s 1ms/step - loss: 13.7866\n",
      "Epoch 5/8\n",
      "78/78 [==============================] - 0s 1ms/step - loss: 6.1103\n",
      "Epoch 6/8\n",
      "78/78 [==============================] - 0s 1ms/step - loss: 5.1714\n",
      "Epoch 7/8\n",
      "78/78 [==============================] - 0s 1ms/step - loss: 5.1326\n",
      "Epoch 8/8\n",
      "78/78 [==============================] - 0s 1ms/step - loss: 5.0806\n"
     ]
    },
    {
     "data": {
      "text/plain": [
       "<keras.src.callbacks.History at 0x2348397fe90>"
      ]
     },
     "execution_count": 312,
     "metadata": {},
     "output_type": "execute_result"
    }
   ],
   "source": [
    "model.fit(X_train, y_train, epochs=8)"
   ]
  },
  {
   "cell_type": "code",
   "execution_count": 313,
   "metadata": {},
   "outputs": [
    {
     "name": "stdout",
     "output_type": "stream",
     "text": [
      "26/26 [==============================] - 0s 1ms/step - loss: 4.8754\n"
     ]
    }
   ],
   "source": [
    "loss = model.evaluate(X_test, y_test)"
   ]
  }
 ],
 "metadata": {
  "kernelspec": {
   "display_name": "env",
   "language": "python",
   "name": "python3"
  },
  "language_info": {
   "codemirror_mode": {
    "name": "ipython",
    "version": 3
   },
   "file_extension": ".py",
   "mimetype": "text/x-python",
   "name": "python",
   "nbconvert_exporter": "python",
   "pygments_lexer": "ipython3",
   "version": "3.11.3"
  },
  "orig_nbformat": 4
 },
 "nbformat": 4,
 "nbformat_minor": 2
}
