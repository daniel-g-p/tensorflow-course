{
 "cells": [
  {
   "cell_type": "markdown",
   "metadata": {},
   "source": [
    "# Dog Race Classification Model"
   ]
  },
  {
   "cell_type": "markdown",
   "metadata": {},
   "source": [
    "## Package Imports"
   ]
  },
  {
   "cell_type": "code",
   "execution_count": null,
   "metadata": {},
   "outputs": [],
   "source": [
    "from os import listdir\n",
    "\n",
    "import numpy as np\n",
    "\n",
    "import pandas as pd\n",
    "\n",
    "from PIL import Image\n",
    "\n",
    "import tensorflow as tf"
   ]
  },
  {
   "cell_type": "markdown",
   "metadata": {},
   "source": [
    "## Image Compression"
   ]
  },
  {
   "cell_type": "code",
   "execution_count": null,
   "metadata": {},
   "outputs": [],
   "source": [
    "for dataset in [\"train\", \"test\"]:\n",
    "    original_directory = \"./data/dogs/original/\" + dataset + \"/\"\n",
    "    compressed_directory = \"./data/dogs/compressed/\" + dataset + \"/\"\n",
    "\n",
    "    original_files = listdir(original_directory)\n",
    "\n",
    "    for file in original_files:\n",
    "        image = Image.open(original_directory + file)\n",
    "\n",
    "        ratio = image.size[0] / image.size[1]\n",
    "        size = (2 * round(32 * ratio), 64) if ratio > 1 else (64, 2 * round(32 / ratio))\n",
    "        image = image.resize(size)\n",
    "\n",
    "        left = (size[0] - 64) / 2\n",
    "        top = (size[1] - 64) / 2\n",
    "        right = (size[0] + 64) / 2\n",
    "        bottom = (size[1] + 64) / 2\n",
    "        image = image.crop((left, top, right, bottom))\n",
    "\n",
    "        image.save(compressed_directory + file)"
   ]
  },
  {
   "cell_type": "markdown",
   "metadata": {},
   "source": [
    "## Label Loading"
   ]
  },
  {
   "cell_type": "code",
   "execution_count": null,
   "metadata": {},
   "outputs": [],
   "source": [
    "labels = pd.read_csv(\"./data/dogs/labels.csv\")\n",
    "labels.info()"
   ]
  },
  {
   "cell_type": "code",
   "execution_count": null,
   "metadata": {},
   "outputs": [],
   "source": [
    "labels.sample(n=10)"
   ]
  },
  {
   "cell_type": "code",
   "execution_count": null,
   "metadata": {},
   "outputs": [],
   "source": [
    "unique_labels = sorted(labels[\"breed\"].unique())\n",
    "unique_labels"
   ]
  },
  {
   "cell_type": "markdown",
   "metadata": {},
   "source": [
    "## Training Data Preprocessing"
   ]
  },
  {
   "cell_type": "code",
   "execution_count": null,
   "metadata": {},
   "outputs": [],
   "source": [
    "train_directory = \"./data/dogs/compressed/train/\"\n",
    "train_files = listdir(train_directory)\n",
    "\n",
    "X_train = []\n",
    "y_train = []\n",
    "\n",
    "for file in train_files:\n",
    "    image_id = file.split(\".\")[0]\n",
    "\n",
    "    image_array = np.array(Image.open(train_directory + file))\n",
    "    X_train.append(image_array)\n",
    "\n",
    "    image_label = labels[labels[\"id\"] == image_id][\"breed\"].to_list()[0]\n",
    "    image_label_id = unique_labels.index(image_label)\n",
    "    y_train.append(image_label_id)\n",
    "\n",
    "X_train = np.array(X_train)\n",
    "y_train = np.array(y_train)"
   ]
  }
 ],
 "metadata": {
  "kernelspec": {
   "display_name": "env",
   "language": "python",
   "name": "python3"
  },
  "language_info": {
   "codemirror_mode": {
    "name": "ipython",
    "version": 3
   },
   "file_extension": ".py",
   "mimetype": "text/x-python",
   "name": "python",
   "nbconvert_exporter": "python",
   "pygments_lexer": "ipython3",
   "version": "3.11.3"
  },
  "orig_nbformat": 4
 },
 "nbformat": 4,
 "nbformat_minor": 2
}
